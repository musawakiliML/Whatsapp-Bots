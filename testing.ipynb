{
 "cells": [
  {
   "cell_type": "markdown",
   "metadata": {},
   "source": [
    "This Notebook for testing and getting information required from APIs i used for the bot"
   ]
  },
  {
   "cell_type": "code",
   "execution_count": 1,
   "metadata": {},
   "outputs": [],
   "source": [
    "import requests"
   ]
  },
  {
   "cell_type": "code",
   "execution_count": 2,
   "metadata": {},
   "outputs": [],
   "source": [
    "response_joke = requests.get(\"https://some-random-api.ml/joke\")"
   ]
  },
  {
   "cell_type": "code",
   "execution_count": 4,
   "metadata": {},
   "outputs": [
    {
     "data": {
      "text/plain": [
       "200"
      ]
     },
     "execution_count": 4,
     "metadata": {},
     "output_type": "execute_result"
    }
   ],
   "source": [
    "response_joke.status_code"
   ]
  },
  {
   "cell_type": "code",
   "execution_count": 5,
   "metadata": {},
   "outputs": [],
   "source": [
    "joke = response_joke.json()"
   ]
  },
  {
   "cell_type": "code",
   "execution_count": 7,
   "metadata": {},
   "outputs": [
    {
     "data": {
      "text/plain": [
       "'What do you call cheese that is not yours? Nacho Cheese.'"
      ]
     },
     "execution_count": 7,
     "metadata": {},
     "output_type": "execute_result"
    }
   ],
   "source": [
    "joke['joke']"
   ]
  },
  {
   "cell_type": "code",
   "execution_count": 9,
   "metadata": {},
   "outputs": [],
   "source": [
    "response_quote = requests.get(\"https://zenquotes.io/api/today/ff5e73b15a05ca51951b758bd7943ce803d71772\")"
   ]
  },
  {
   "cell_type": "code",
   "execution_count": 10,
   "metadata": {},
   "outputs": [
    {
     "data": {
      "text/plain": [
       "200"
      ]
     },
     "execution_count": 10,
     "metadata": {},
     "output_type": "execute_result"
    }
   ],
   "source": [
    "response_quote.status_code"
   ]
  },
  {
   "cell_type": "code",
   "execution_count": 14,
   "metadata": {},
   "outputs": [
    {
     "data": {
      "text/plain": [
       "'Seungsahn'"
      ]
     },
     "execution_count": 14,
     "metadata": {},
     "output_type": "execute_result"
    }
   ],
   "source": [
    "response_quote.json()[0]['a']"
   ]
  },
  {
   "cell_type": "code",
   "execution_count": 18,
   "metadata": {},
   "outputs": [],
   "source": [
    "request_dog = requests.get(\"https://dog.ceo/api/breeds/image/random\")"
   ]
  },
  {
   "cell_type": "code",
   "execution_count": 19,
   "metadata": {},
   "outputs": [
    {
     "data": {
      "text/plain": [
       "200"
      ]
     },
     "execution_count": 19,
     "metadata": {},
     "output_type": "execute_result"
    }
   ],
   "source": [
    "request_dog.status_code"
   ]
  },
  {
   "cell_type": "code",
   "execution_count": 25,
   "metadata": {},
   "outputs": [
    {
     "data": {
      "text/plain": [
       "'https://images.dog.ceo/breeds/lhasa/n02098413_20830.jpg'"
      ]
     },
     "execution_count": 25,
     "metadata": {},
     "output_type": "execute_result"
    }
   ],
   "source": [
    "request_dog.json()['message']"
   ]
  },
  {
   "cell_type": "code",
   "execution_count": 21,
   "metadata": {},
   "outputs": [],
   "source": [
    "request_cat = requests.get(\"https://cataas.com/cat/cute\")"
   ]
  },
  {
   "cell_type": "code",
   "execution_count": 22,
   "metadata": {},
   "outputs": [
    {
     "data": {
      "text/plain": [
       "200"
      ]
     },
     "execution_count": 22,
     "metadata": {},
     "output_type": "execute_result"
    }
   ],
   "source": [
    "request_cat.status_code"
   ]
  },
  {
   "cell_type": "code",
   "execution_count": 30,
   "metadata": {},
   "outputs": [
    {
     "data": {
      "text/plain": [
       "'https://cataas.com/cat/cute'"
      ]
     },
     "execution_count": 30,
     "metadata": {},
     "output_type": "execute_result"
    }
   ],
   "source": [
    "request_cat.url"
   ]
  },
  {
   "cell_type": "code",
   "execution_count": 31,
   "metadata": {},
   "outputs": [],
   "source": [
    "req_q = requests.get(\"https://zenquotes.io/api/quotes/author/abraham-lincoln/ff5e73b15a05ca51951b758bd7943ce803d71772\")"
   ]
  },
  {
   "cell_type": "code",
   "execution_count": 32,
   "metadata": {},
   "outputs": [
    {
     "data": {
      "text/plain": [
       "200"
      ]
     },
     "execution_count": 32,
     "metadata": {},
     "output_type": "execute_result"
    }
   ],
   "source": [
    "req_q.status_code"
   ]
  },
  {
   "cell_type": "code",
   "execution_count": 33,
   "metadata": {},
   "outputs": [
    {
     "data": {
      "text/plain": [
       "[{'q': 'Unauthorized API request, key required. Visit zenquotes.io for documentation.',\n",
       "  'a': 'zenquotes.io',\n",
       "  'h': '<blockquote>Unauthorized API request, key required. Visit zenquotes.io for documentation.</blockquote>'}]"
      ]
     },
     "execution_count": 33,
     "metadata": {},
     "output_type": "execute_result"
    }
   ],
   "source": [
    "req_q.json()"
   ]
  },
  {
   "cell_type": "code",
   "execution_count": 2,
   "metadata": {},
   "outputs": [
    {
     "name": "stdout",
     "output_type": "stream",
     "text": [
      "/Users/MusaML/Documents/Essentialist Bots/mybotenv/bin/pip3: line 2: /Users/MusaML/Documents/Telegram Bots/mybotenv/bin/python3: No such file or directory\n",
      "/Users/MusaML/Documents/Essentialist Bots/mybotenv/bin/pip3: line 2: exec: /Users/MusaML/Documents/Telegram Bots/mybotenv/bin/python3: cannot execute: No such file or directory\n"
     ]
    }
   ],
   "source": [
    "!pip3 list"
   ]
  },
  {
   "cell_type": "code",
   "execution_count": 4,
   "metadata": {},
   "outputs": [],
   "source": [
    "import requests\n",
    "import urllib\n",
    "\n",
    "username = \"MusaAdamuWakili\"\n",
    "password = \"meme_bot_1234\"\n",
    "\n",
    "user_agent = \"Mozilla/5.0 (Macintosh; Intel Mac OS X 10_15_7) AppleWebKit/537.36 (KHTML, like Gecko) Chrome/100.0.4896.75 Safari/537.36\"\n"
   ]
  },
  {
   "cell_type": "code",
   "execution_count": 36,
   "metadata": {},
   "outputs": [],
   "source": [
    "data = requests.get(\"https://api.imgflip.com/get_memes\")\n",
    "\n",
    "meme_data = data.json()"
   ]
  },
  {
   "cell_type": "code",
   "execution_count": 37,
   "metadata": {},
   "outputs": [
    {
     "data": {
      "text/plain": [
       "200"
      ]
     },
     "execution_count": 37,
     "metadata": {},
     "output_type": "execute_result"
    }
   ],
   "source": [
    "data.status_code"
   ]
  },
  {
   "cell_type": "code",
   "execution_count": 10,
   "metadata": {},
   "outputs": [
    {
     "data": {
      "text/plain": [
       "{'success': True,\n",
       " 'data': {'memes': [{'id': '181913649',\n",
       "    'name': 'Drake Hotline Bling',\n",
       "    'url': 'https://i.imgflip.com/30b1gx.jpg',\n",
       "    'width': 1200,\n",
       "    'height': 1200,\n",
       "    'box_count': 2},\n",
       "   {'id': '87743020',\n",
       "    'name': 'Two Buttons',\n",
       "    'url': 'https://i.imgflip.com/1g8my4.jpg',\n",
       "    'width': 600,\n",
       "    'height': 908,\n",
       "    'box_count': 3},\n",
       "   {'id': '112126428',\n",
       "    'name': 'Distracted Boyfriend',\n",
       "    'url': 'https://i.imgflip.com/1ur9b0.jpg',\n",
       "    'width': 1200,\n",
       "    'height': 800,\n",
       "    'box_count': 3},\n",
       "   {'id': '131087935',\n",
       "    'name': 'Running Away Balloon',\n",
       "    'url': 'https://i.imgflip.com/261o3j.jpg',\n",
       "    'width': 761,\n",
       "    'height': 1024,\n",
       "    'box_count': 5},\n",
       "   {'id': '217743513',\n",
       "    'name': 'UNO Draw 25 Cards',\n",
       "    'url': 'https://i.imgflip.com/3lmzyx.jpg',\n",
       "    'width': 500,\n",
       "    'height': 494,\n",
       "    'box_count': 2},\n",
       "   {'id': '124822590',\n",
       "    'name': 'Left Exit 12 Off Ramp',\n",
       "    'url': 'https://i.imgflip.com/22bdq6.jpg',\n",
       "    'width': 804,\n",
       "    'height': 767,\n",
       "    'box_count': 3},\n",
       "   {'id': '247375501',\n",
       "    'name': 'Buff Doge vs. Cheems',\n",
       "    'url': 'https://i.imgflip.com/43a45p.png',\n",
       "    'width': 937,\n",
       "    'height': 720,\n",
       "    'box_count': 4},\n",
       "   {'id': '129242436',\n",
       "    'name': 'Change My Mind',\n",
       "    'url': 'https://i.imgflip.com/24y43o.jpg',\n",
       "    'width': 482,\n",
       "    'height': 361,\n",
       "    'box_count': 2},\n",
       "   {'id': '131940431',\n",
       "    'name': \"Gru's Plan\",\n",
       "    'url': 'https://i.imgflip.com/26jxvz.jpg',\n",
       "    'width': 700,\n",
       "    'height': 449,\n",
       "    'box_count': 4},\n",
       "   {'id': '222403160',\n",
       "    'name': 'Bernie I Am Once Again Asking For Your Support',\n",
       "    'url': 'https://i.imgflip.com/3oevdk.jpg',\n",
       "    'width': 750,\n",
       "    'height': 750,\n",
       "    'box_count': 2},\n",
       "   {'id': '438680',\n",
       "    'name': 'Batman Slapping Robin',\n",
       "    'url': 'https://i.imgflip.com/9ehk.jpg',\n",
       "    'width': 400,\n",
       "    'height': 387,\n",
       "    'box_count': 2},\n",
       "   {'id': '4087833',\n",
       "    'name': 'Waiting Skeleton',\n",
       "    'url': 'https://i.imgflip.com/2fm6x.jpg',\n",
       "    'width': 298,\n",
       "    'height': 403,\n",
       "    'box_count': 2},\n",
       "   {'id': '93895088',\n",
       "    'name': 'Expanding Brain',\n",
       "    'url': 'https://i.imgflip.com/1jwhww.jpg',\n",
       "    'width': 857,\n",
       "    'height': 1202,\n",
       "    'box_count': 4},\n",
       "   {'id': '97984',\n",
       "    'name': 'Disaster Girl',\n",
       "    'url': 'https://i.imgflip.com/23ls.jpg',\n",
       "    'width': 500,\n",
       "    'height': 375,\n",
       "    'box_count': 2},\n",
       "   {'id': '135256802',\n",
       "    'name': 'Epic Handshake',\n",
       "    'url': 'https://i.imgflip.com/28j0te.jpg',\n",
       "    'width': 900,\n",
       "    'height': 645,\n",
       "    'box_count': 3},\n",
       "   {'id': '188390779',\n",
       "    'name': 'Woman Yelling At Cat',\n",
       "    'url': 'https://i.imgflip.com/345v97.jpg',\n",
       "    'width': 680,\n",
       "    'height': 438,\n",
       "    'box_count': 2},\n",
       "   {'id': '80707627',\n",
       "    'name': 'Sad Pablo Escobar',\n",
       "    'url': 'https://i.imgflip.com/1c1uej.jpg',\n",
       "    'width': 720,\n",
       "    'height': 709,\n",
       "    'box_count': 3},\n",
       "   {'id': '178591752',\n",
       "    'name': 'Tuxedo Winnie The Pooh',\n",
       "    'url': 'https://i.imgflip.com/2ybua0.png',\n",
       "    'width': 800,\n",
       "    'height': 582,\n",
       "    'box_count': 2},\n",
       "   {'id': '1035805',\n",
       "    'name': 'Boardroom Meeting Suggestion',\n",
       "    'url': 'https://i.imgflip.com/m78d.jpg',\n",
       "    'width': 500,\n",
       "    'height': 649,\n",
       "    'box_count': 4},\n",
       "   {'id': '148909805',\n",
       "    'name': 'Monkey Puppet',\n",
       "    'url': 'https://i.imgflip.com/2gnnjh.jpg',\n",
       "    'width': 923,\n",
       "    'height': 768,\n",
       "    'box_count': 2},\n",
       "   {'id': '252600902',\n",
       "    'name': 'Always Has Been',\n",
       "    'url': 'https://i.imgflip.com/46e43q.png',\n",
       "    'width': 960,\n",
       "    'height': 540,\n",
       "    'box_count': 2},\n",
       "   {'id': '119139145',\n",
       "    'name': 'Blank Nut Button',\n",
       "    'url': 'https://i.imgflip.com/1yxkcp.jpg',\n",
       "    'width': 600,\n",
       "    'height': 446,\n",
       "    'box_count': 2},\n",
       "   {'id': '91538330',\n",
       "    'name': 'X, X Everywhere',\n",
       "    'url': 'https://i.imgflip.com/1ihzfe.jpg',\n",
       "    'width': 2118,\n",
       "    'height': 1440,\n",
       "    'box_count': 2},\n",
       "   {'id': '110163934',\n",
       "    'name': \"I Bet He's Thinking About Other Women\",\n",
       "    'url': 'https://i.imgflip.com/1tl71a.jpg',\n",
       "    'width': 1654,\n",
       "    'height': 930,\n",
       "    'box_count': 2},\n",
       "   {'id': '102156234',\n",
       "    'name': 'Mocking Spongebob',\n",
       "    'url': 'https://i.imgflip.com/1otk96.jpg',\n",
       "    'width': 502,\n",
       "    'height': 353,\n",
       "    'box_count': 2},\n",
       "   {'id': '226297822',\n",
       "    'name': 'Panik Kalm Panik',\n",
       "    'url': 'https://i.imgflip.com/3qqcim.png',\n",
       "    'width': 640,\n",
       "    'height': 881,\n",
       "    'box_count': 3},\n",
       "   {'id': '180190441',\n",
       "    'name': \"They're The Same Picture\",\n",
       "    'url': 'https://i.imgflip.com/2za3u1.jpg',\n",
       "    'width': 1363,\n",
       "    'height': 1524,\n",
       "    'box_count': 3},\n",
       "   {'id': '27813981',\n",
       "    'name': 'Hide the Pain Harold',\n",
       "    'url': 'https://i.imgflip.com/gk5el.jpg',\n",
       "    'width': 480,\n",
       "    'height': 601,\n",
       "    'box_count': 2},\n",
       "   {'id': '79132341',\n",
       "    'name': 'Bike Fall',\n",
       "    'url': 'https://i.imgflip.com/1b42wl.jpg',\n",
       "    'width': 500,\n",
       "    'height': 680,\n",
       "    'box_count': 3},\n",
       "   {'id': '216951317',\n",
       "    'name': 'Guy Holding Cardboard Sign',\n",
       "    'url': 'https://i.imgflip.com/3l60ph.jpg',\n",
       "    'width': 700,\n",
       "    'height': 702,\n",
       "    'box_count': 2},\n",
       "   {'id': '195515965',\n",
       "    'name': 'Clown Applying Makeup',\n",
       "    'url': 'https://i.imgflip.com/38el31.jpg',\n",
       "    'width': 750,\n",
       "    'height': 798,\n",
       "    'box_count': 4},\n",
       "   {'id': '100777631',\n",
       "    'name': 'Is This A Pigeon',\n",
       "    'url': 'https://i.imgflip.com/1o00in.jpg',\n",
       "    'width': 1587,\n",
       "    'height': 1425,\n",
       "    'box_count': 3},\n",
       "   {'id': '114585149',\n",
       "    'name': 'Inhaling Seagull',\n",
       "    'url': 'https://i.imgflip.com/1w7ygt.jpg',\n",
       "    'width': 1269,\n",
       "    'height': 2825,\n",
       "    'box_count': 4},\n",
       "   {'id': '61579',\n",
       "    'name': 'One Does Not Simply',\n",
       "    'url': 'https://i.imgflip.com/1bij.jpg',\n",
       "    'width': 568,\n",
       "    'height': 335,\n",
       "    'box_count': 2},\n",
       "   {'id': '55311130',\n",
       "    'name': 'This Is Fine',\n",
       "    'url': 'https://i.imgflip.com/wxica.jpg',\n",
       "    'width': 580,\n",
       "    'height': 282,\n",
       "    'box_count': 2},\n",
       "   {'id': '123999232',\n",
       "    'name': 'The Scroll Of Truth',\n",
       "    'url': 'https://i.imgflip.com/21tqf4.jpg',\n",
       "    'width': 1280,\n",
       "    'height': 1236,\n",
       "    'box_count': 2},\n",
       "   {'id': '101470',\n",
       "    'name': 'Ancient Aliens',\n",
       "    'url': 'https://i.imgflip.com/26am.jpg',\n",
       "    'width': 500,\n",
       "    'height': 437,\n",
       "    'box_count': 2},\n",
       "   {'id': '61544',\n",
       "    'name': 'Success Kid',\n",
       "    'url': 'https://i.imgflip.com/1bhk.jpg',\n",
       "    'width': 500,\n",
       "    'height': 500,\n",
       "    'box_count': 2},\n",
       "   {'id': '89370399',\n",
       "    'name': 'Roll Safe Think About It',\n",
       "    'url': 'https://i.imgflip.com/1h7in3.jpg',\n",
       "    'width': 702,\n",
       "    'height': 395,\n",
       "    'box_count': 2},\n",
       "   {'id': '3218037',\n",
       "    'name': \"This Is Where I'd Put My Trophy If I Had One\",\n",
       "    'url': 'https://i.imgflip.com/1wz1x.jpg',\n",
       "    'width': 300,\n",
       "    'height': 418,\n",
       "    'box_count': 2},\n",
       "   {'id': '135678846',\n",
       "    'name': 'Who Killed Hannibal',\n",
       "    'url': 'https://i.imgflip.com/28s2gu.jpg',\n",
       "    'width': 1280,\n",
       "    'height': 1440,\n",
       "    'box_count': 3},\n",
       "   {'id': '155067746',\n",
       "    'name': 'Surprised Pikachu',\n",
       "    'url': 'https://i.imgflip.com/2kbn1e.jpg',\n",
       "    'width': 1893,\n",
       "    'height': 1893,\n",
       "    'box_count': 3},\n",
       "   {'id': '134797956',\n",
       "    'name': 'American Chopper Argument',\n",
       "    'url': 'https://i.imgflip.com/2896ro.jpg',\n",
       "    'width': 640,\n",
       "    'height': 1800,\n",
       "    'box_count': 5},\n",
       "   {'id': '21735',\n",
       "    'name': 'The Rock Driving',\n",
       "    'url': 'https://i.imgflip.com/grr.jpg',\n",
       "    'width': 568,\n",
       "    'height': 700,\n",
       "    'box_count': 2},\n",
       "   {'id': '99683372',\n",
       "    'name': 'Sleeping Shaq',\n",
       "    'url': 'https://i.imgflip.com/1nck6k.jpg',\n",
       "    'width': 640,\n",
       "    'height': 631,\n",
       "    'box_count': 2},\n",
       "   {'id': '161865971',\n",
       "    'name': 'Marked Safe From',\n",
       "    'url': 'https://i.imgflip.com/2odckz.jpg',\n",
       "    'width': 618,\n",
       "    'height': 499,\n",
       "    'box_count': 2},\n",
       "   {'id': '84341851',\n",
       "    'name': 'Evil Kermit',\n",
       "    'url': 'https://i.imgflip.com/1e7ql7.jpg',\n",
       "    'width': 700,\n",
       "    'height': 325,\n",
       "    'box_count': 2},\n",
       "   {'id': '124055727',\n",
       "    'name': \"Y'all Got Any More Of That\",\n",
       "    'url': 'https://i.imgflip.com/21uy0f.jpg',\n",
       "    'width': 600,\n",
       "    'height': 471,\n",
       "    'box_count': 2},\n",
       "   {'id': '28251713',\n",
       "    'name': 'Oprah You Get A',\n",
       "    'url': 'https://i.imgflip.com/gtj5t.jpg',\n",
       "    'width': 620,\n",
       "    'height': 465,\n",
       "    'box_count': 2},\n",
       "   {'id': '259237855',\n",
       "    'name': 'Laughing Leo',\n",
       "    'url': 'https://i.imgflip.com/4acd7j.png',\n",
       "    'width': 470,\n",
       "    'height': 470,\n",
       "    'box_count': 2},\n",
       "   {'id': '175540452',\n",
       "    'name': 'Unsettled Tom',\n",
       "    'url': 'https://i.imgflip.com/2wifvo.jpg',\n",
       "    'width': 680,\n",
       "    'height': 550,\n",
       "    'box_count': 2},\n",
       "   {'id': '101288',\n",
       "    'name': 'Third World Skeptical Kid',\n",
       "    'url': 'https://i.imgflip.com/265k.jpg',\n",
       "    'width': 426,\n",
       "    'height': 426,\n",
       "    'box_count': 2},\n",
       "   {'id': '6235864',\n",
       "    'name': 'Finding Neverland',\n",
       "    'url': 'https://i.imgflip.com/3pnmg.jpg',\n",
       "    'width': 423,\n",
       "    'height': 600,\n",
       "    'box_count': 3},\n",
       "   {'id': '61520',\n",
       "    'name': 'Futurama Fry',\n",
       "    'url': 'https://i.imgflip.com/1bgw.jpg',\n",
       "    'width': 552,\n",
       "    'height': 414,\n",
       "    'box_count': 2},\n",
       "   {'id': '61556',\n",
       "    'name': 'Grandma Finds The Internet',\n",
       "    'url': 'https://i.imgflip.com/1bhw.jpg',\n",
       "    'width': 640,\n",
       "    'height': 480,\n",
       "    'box_count': 2},\n",
       "   {'id': '196652226',\n",
       "    'name': 'Spongebob Ight Imma Head Out',\n",
       "    'url': 'https://i.imgflip.com/392xtu.jpg',\n",
       "    'width': 822,\n",
       "    'height': 960,\n",
       "    'box_count': 2},\n",
       "   {'id': '132769734',\n",
       "    'name': 'Hard To Swallow Pills',\n",
       "    'url': 'https://i.imgflip.com/271ps6.jpg',\n",
       "    'width': 680,\n",
       "    'height': 979,\n",
       "    'box_count': 2},\n",
       "   {'id': '91545132',\n",
       "    'name': 'Trump Bill Signing',\n",
       "    'url': 'https://i.imgflip.com/1ii4oc.jpg',\n",
       "    'width': 1866,\n",
       "    'height': 1529,\n",
       "    'box_count': 2},\n",
       "   {'id': '5496396',\n",
       "    'name': 'Leonardo Dicaprio Cheers',\n",
       "    'url': 'https://i.imgflip.com/39t1o.jpg',\n",
       "    'width': 600,\n",
       "    'height': 400,\n",
       "    'box_count': 2},\n",
       "   {'id': '8072285',\n",
       "    'name': 'Doge',\n",
       "    'url': 'https://i.imgflip.com/4t0m5.jpg',\n",
       "    'width': 620,\n",
       "    'height': 620,\n",
       "    'box_count': 5},\n",
       "   {'id': '14371066',\n",
       "    'name': 'Star Wars Yoda',\n",
       "    'url': 'https://i.imgflip.com/8k0sa.jpg',\n",
       "    'width': 620,\n",
       "    'height': 714,\n",
       "    'box_count': 2},\n",
       "   {'id': '563423',\n",
       "    'name': 'That Would Be Great',\n",
       "    'url': 'https://i.imgflip.com/c2qn.jpg',\n",
       "    'width': 526,\n",
       "    'height': 440,\n",
       "    'box_count': 2},\n",
       "   {'id': '8279814',\n",
       "    'name': 'Cute Cat',\n",
       "    'url': 'https://i.imgflip.com/4xgqu.jpg',\n",
       "    'width': 480,\n",
       "    'height': 532,\n",
       "    'box_count': 2},\n",
       "   {'id': '61532',\n",
       "    'name': 'The Most Interesting Man In The World',\n",
       "    'url': 'https://i.imgflip.com/1bh8.jpg',\n",
       "    'width': 550,\n",
       "    'height': 690,\n",
       "    'box_count': 2},\n",
       "   {'id': '29617627',\n",
       "    'name': 'Look At Me',\n",
       "    'url': 'https://i.imgflip.com/hmt3v.jpg',\n",
       "    'width': 300,\n",
       "    'height': 300,\n",
       "    'box_count': 2},\n",
       "   {'id': '16464531',\n",
       "    'name': \"But That's None Of My Business\",\n",
       "    'url': 'https://i.imgflip.com/9sw43.jpg',\n",
       "    'width': 600,\n",
       "    'height': 600,\n",
       "    'box_count': 2},\n",
       "   {'id': '163573',\n",
       "    'name': 'Imagination Spongebob',\n",
       "    'url': 'https://i.imgflip.com/3i7p.jpg',\n",
       "    'width': 500,\n",
       "    'height': 366,\n",
       "    'box_count': 2},\n",
       "   {'id': '21604248',\n",
       "    'name': 'Mugatu So Hot Right Now',\n",
       "    'url': 'https://i.imgflip.com/cv1y0.jpg',\n",
       "    'width': 620,\n",
       "    'height': 497,\n",
       "    'box_count': 2},\n",
       "   {'id': '4173692',\n",
       "    'name': 'Scared Cat',\n",
       "    'url': 'https://i.imgflip.com/2hgfw.jpg',\n",
       "    'width': 620,\n",
       "    'height': 464,\n",
       "    'box_count': 2},\n",
       "   {'id': '460541',\n",
       "    'name': 'Jack Sparrow Being Chased',\n",
       "    'url': 'https://i.imgflip.com/9vct.jpg',\n",
       "    'width': 500,\n",
       "    'height': 375,\n",
       "    'box_count': 2},\n",
       "   {'id': '61585',\n",
       "    'name': 'Bad Luck Brian',\n",
       "    'url': 'https://i.imgflip.com/1bip.jpg',\n",
       "    'width': 475,\n",
       "    'height': 562,\n",
       "    'box_count': 2},\n",
       "   {'id': '61546',\n",
       "    'name': 'Brace Yourselves X is Coming',\n",
       "    'url': 'https://i.imgflip.com/1bhm.jpg',\n",
       "    'width': 622,\n",
       "    'height': 477,\n",
       "    'box_count': 2},\n",
       "   {'id': '6531067',\n",
       "    'name': 'See Nobody Cares',\n",
       "    'url': 'https://i.imgflip.com/3vzej.jpg',\n",
       "    'width': 620,\n",
       "    'height': 676,\n",
       "    'box_count': 2},\n",
       "   {'id': '61539',\n",
       "    'name': 'First World Problems',\n",
       "    'url': 'https://i.imgflip.com/1bhf.jpg',\n",
       "    'width': 552,\n",
       "    'height': 367,\n",
       "    'box_count': 2},\n",
       "   {'id': '56225174',\n",
       "    'name': 'Be Like Bill',\n",
       "    'url': 'https://i.imgflip.com/xh3me.jpg',\n",
       "    'width': 913,\n",
       "    'height': 907,\n",
       "    'box_count': 4},\n",
       "   {'id': '24557067',\n",
       "    'name': 'Afraid To Ask Andy',\n",
       "    'url': 'https://i.imgflip.com/emccr.jpg',\n",
       "    'width': 620,\n",
       "    'height': 608,\n",
       "    'box_count': 2},\n",
       "   {'id': '61580',\n",
       "    'name': 'Too Damn High',\n",
       "    'url': 'https://i.imgflip.com/1bik.jpg',\n",
       "    'width': 420,\n",
       "    'height': 316,\n",
       "    'box_count': 2},\n",
       "   {'id': '29562797',\n",
       "    'name': \"I'm The Captain Now\",\n",
       "    'url': 'https://i.imgflip.com/hlmst.jpg',\n",
       "    'width': 478,\n",
       "    'height': 350,\n",
       "    'box_count': 2},\n",
       "   {'id': '285870',\n",
       "    'name': 'Squidward',\n",
       "    'url': 'https://i.imgflip.com/64ku.jpg',\n",
       "    'width': 500,\n",
       "    'height': 750,\n",
       "    'box_count': 2},\n",
       "   {'id': '101716',\n",
       "    'name': 'Yo Dawg Heard You',\n",
       "    'url': 'https://i.imgflip.com/26hg.jpg',\n",
       "    'width': 500,\n",
       "    'height': 323,\n",
       "    'box_count': 2},\n",
       "   {'id': '101910402',\n",
       "    'name': 'Who Would Win?',\n",
       "    'url': 'https://i.imgflip.com/1ooaki.jpg',\n",
       "    'width': 802,\n",
       "    'height': 500,\n",
       "    'box_count': 2},\n",
       "   {'id': '61533',\n",
       "    'name': 'X All The Y',\n",
       "    'url': 'https://i.imgflip.com/1bh9.jpg',\n",
       "    'width': 500,\n",
       "    'height': 355,\n",
       "    'box_count': 2},\n",
       "   {'id': '101287',\n",
       "    'name': 'Third World Success Kid',\n",
       "    'url': 'https://i.imgflip.com/265j.jpg',\n",
       "    'width': 500,\n",
       "    'height': 500,\n",
       "    'box_count': 2},\n",
       "   {'id': '142921050',\n",
       "    'name': 'Car Salesman Slaps Roof Of Car',\n",
       "    'url': 'https://i.imgflip.com/2d3al6.jpg',\n",
       "    'width': 800,\n",
       "    'height': 450,\n",
       "    'box_count': 2},\n",
       "   {'id': '405658',\n",
       "    'name': 'Grumpy Cat',\n",
       "    'url': 'https://i.imgflip.com/8p0a.jpg',\n",
       "    'width': 500,\n",
       "    'height': 617,\n",
       "    'box_count': 2},\n",
       "   {'id': '1367068',\n",
       "    'name': 'I Should Buy A Boat Cat',\n",
       "    'url': 'https://i.imgflip.com/tau4.jpg',\n",
       "    'width': 500,\n",
       "    'height': 368,\n",
       "    'box_count': 2},\n",
       "   {'id': '101511',\n",
       "    'name': \"Don't You Squidward\",\n",
       "    'url': 'https://i.imgflip.com/26br.jpg',\n",
       "    'width': 500,\n",
       "    'height': 333,\n",
       "    'box_count': 2},\n",
       "   {'id': '28034788',\n",
       "    'name': 'Marvel Civil War 1',\n",
       "    'url': 'https://i.imgflip.com/govs4.jpg',\n",
       "    'width': 423,\n",
       "    'height': 734,\n",
       "    'box_count': 2},\n",
       "   {'id': '61581',\n",
       "    'name': 'Put It Somewhere Else Patrick',\n",
       "    'url': 'https://i.imgflip.com/1bil.jpg',\n",
       "    'width': 343,\n",
       "    'height': 604,\n",
       "    'box_count': 2},\n",
       "   {'id': '89655',\n",
       "    'name': 'Uncle Sam',\n",
       "    'url': 'https://i.imgflip.com/1x6f.jpg',\n",
       "    'width': 620,\n",
       "    'height': 833,\n",
       "    'box_count': 2},\n",
       "   {'id': '176908',\n",
       "    'name': 'Shut Up And Take My Money Fry',\n",
       "    'url': 'https://i.imgflip.com/3si4.jpg',\n",
       "    'width': 500,\n",
       "    'height': 281,\n",
       "    'box_count': 2},\n",
       "   {'id': '61527',\n",
       "    'name': 'Y U No',\n",
       "    'url': 'https://i.imgflip.com/1bh3.jpg',\n",
       "    'width': 500,\n",
       "    'height': 500,\n",
       "    'box_count': 2},\n",
       "   {'id': '341570',\n",
       "    'name': 'Success Kid Original',\n",
       "    'url': 'https://i.imgflip.com/7bk2.jpg',\n",
       "    'width': 500,\n",
       "    'height': 333,\n",
       "    'box_count': 2},\n",
       "   {'id': '9440985',\n",
       "    'name': 'Face You Make Robert Downey Jr',\n",
       "    'url': 'https://i.imgflip.com/5mcpl.jpg',\n",
       "    'width': 460,\n",
       "    'height': 523,\n",
       "    'box_count': 2},\n",
       "   {'id': '7183956',\n",
       "    'name': 'Oprah You Get A Car Everybody Gets A Car',\n",
       "    'url': 'https://i.imgflip.com/49z6c.jpg',\n",
       "    'width': 620,\n",
       "    'height': 1004,\n",
       "    'box_count': 4},\n",
       "   {'id': '71428573',\n",
       "    'name': 'Say it Again, Dexter',\n",
       "    'url': 'https://i.imgflip.com/16iyn1.jpg',\n",
       "    'width': 698,\n",
       "    'height': 900,\n",
       "    'box_count': 2},\n",
       "   {'id': '1202623',\n",
       "    'name': 'Keep Calm And Carry On Red',\n",
       "    'url': 'https://i.imgflip.com/pry7.jpg',\n",
       "    'width': 500,\n",
       "    'height': 704,\n",
       "    'box_count': 2},\n",
       "   {'id': '922147',\n",
       "    'name': 'Laughing Men In Suits',\n",
       "    'url': 'https://i.imgflip.com/jrj7.jpg',\n",
       "    'width': 500,\n",
       "    'height': 333,\n",
       "    'box_count': 2},\n",
       "   {'id': '109765',\n",
       "    'name': \"I'll Just Wait Here\",\n",
       "    'url': 'https://i.imgflip.com/2cp1.jpg',\n",
       "    'width': 491,\n",
       "    'height': 550,\n",
       "    'box_count': 2},\n",
       "   {'id': '1232104',\n",
       "    'name': 'Pepperidge Farm Remembers',\n",
       "    'url': 'https://i.imgflip.com/qep4.jpg',\n",
       "    'width': 500,\n",
       "    'height': 500,\n",
       "    'box_count': 2}]}}"
      ]
     },
     "execution_count": 10,
     "metadata": {},
     "output_type": "execute_result"
    }
   ],
   "source": [
    "meme_data"
   ]
  },
  {
   "cell_type": "code",
   "execution_count": 15,
   "metadata": {},
   "outputs": [],
   "source": [
    "memes = meme_data['data']['memes']"
   ]
  },
  {
   "cell_type": "code",
   "execution_count": 16,
   "metadata": {},
   "outputs": [
    {
     "data": {
      "text/plain": [
       "100"
      ]
     },
     "execution_count": 16,
     "metadata": {},
     "output_type": "execute_result"
    }
   ],
   "source": [
    "len(memes)"
   ]
  },
  {
   "cell_type": "code",
   "execution_count": 17,
   "metadata": {},
   "outputs": [],
   "source": [
    "images = [{'name':image['name'], 'url':image['url'], 'id':image['id']} for image in memes]"
   ]
  },
  {
   "cell_type": "code",
   "execution_count": 50,
   "metadata": {},
   "outputs": [
    {
     "data": {
      "text/plain": [
       "[(0, 'Drake Hotline Bling'),\n",
       " (1, 'Two Buttons'),\n",
       " (2, 'Distracted Boyfriend'),\n",
       " (3, 'Running Away Balloon'),\n",
       " (4, 'UNO Draw 25 Cards'),\n",
       " (5, 'Left Exit 12 Off Ramp'),\n",
       " (6, 'Buff Doge vs. Cheems'),\n",
       " (7, 'Change My Mind'),\n",
       " (8, \"Gru's Plan\"),\n",
       " (9, 'Bernie I Am Once Again Asking For Your Support'),\n",
       " (10, 'Batman Slapping Robin'),\n",
       " (11, 'Waiting Skeleton'),\n",
       " (12, 'Expanding Brain'),\n",
       " (13, 'Disaster Girl'),\n",
       " (14, 'Epic Handshake'),\n",
       " (15, 'Woman Yelling At Cat'),\n",
       " (16, 'Sad Pablo Escobar'),\n",
       " (17, 'Tuxedo Winnie The Pooh'),\n",
       " (18, 'Boardroom Meeting Suggestion'),\n",
       " (19, 'Monkey Puppet'),\n",
       " (20, 'Always Has Been'),\n",
       " (21, 'Blank Nut Button'),\n",
       " (22, 'X, X Everywhere'),\n",
       " (23, \"I Bet He's Thinking About Other Women\"),\n",
       " (24, 'Mocking Spongebob'),\n",
       " (25, 'Panik Kalm Panik'),\n",
       " (26, \"They're The Same Picture\"),\n",
       " (27, 'Hide the Pain Harold'),\n",
       " (28, 'Bike Fall'),\n",
       " (29, 'Guy Holding Cardboard Sign'),\n",
       " (30, 'Clown Applying Makeup'),\n",
       " (31, 'Is This A Pigeon'),\n",
       " (32, 'Inhaling Seagull'),\n",
       " (33, 'One Does Not Simply'),\n",
       " (34, 'This Is Fine'),\n",
       " (35, 'The Scroll Of Truth'),\n",
       " (36, 'Ancient Aliens'),\n",
       " (37, 'Success Kid'),\n",
       " (38, 'Roll Safe Think About It'),\n",
       " (39, \"This Is Where I'd Put My Trophy If I Had One\"),\n",
       " (40, 'Who Killed Hannibal'),\n",
       " (41, 'Surprised Pikachu'),\n",
       " (42, 'American Chopper Argument'),\n",
       " (43, 'The Rock Driving'),\n",
       " (44, 'Sleeping Shaq'),\n",
       " (45, 'Marked Safe From'),\n",
       " (46, 'Evil Kermit'),\n",
       " (47, \"Y'all Got Any More Of That\"),\n",
       " (48, 'Oprah You Get A'),\n",
       " (49, 'Laughing Leo'),\n",
       " (50, 'Unsettled Tom'),\n",
       " (51, 'Third World Skeptical Kid'),\n",
       " (52, 'Finding Neverland'),\n",
       " (53, 'Futurama Fry'),\n",
       " (54, 'Grandma Finds The Internet'),\n",
       " (55, 'Spongebob Ight Imma Head Out'),\n",
       " (56, 'Hard To Swallow Pills'),\n",
       " (57, 'Trump Bill Signing'),\n",
       " (58, 'Leonardo Dicaprio Cheers'),\n",
       " (59, 'Doge'),\n",
       " (60, 'Star Wars Yoda'),\n",
       " (61, 'That Would Be Great'),\n",
       " (62, 'Cute Cat'),\n",
       " (63, 'The Most Interesting Man In The World'),\n",
       " (64, 'Look At Me'),\n",
       " (65, \"But That's None Of My Business\"),\n",
       " (66, 'Imagination Spongebob'),\n",
       " (67, 'Mugatu So Hot Right Now'),\n",
       " (68, 'Scared Cat'),\n",
       " (69, 'Jack Sparrow Being Chased'),\n",
       " (70, 'Bad Luck Brian'),\n",
       " (71, 'Brace Yourselves X is Coming'),\n",
       " (72, 'See Nobody Cares'),\n",
       " (73, 'First World Problems'),\n",
       " (74, 'Be Like Bill'),\n",
       " (75, 'Afraid To Ask Andy'),\n",
       " (76, 'Too Damn High'),\n",
       " (77, \"I'm The Captain Now\"),\n",
       " (78, 'Squidward'),\n",
       " (79, 'Yo Dawg Heard You'),\n",
       " (80, 'Who Would Win?'),\n",
       " (81, 'X All The Y'),\n",
       " (82, 'Third World Success Kid'),\n",
       " (83, 'Car Salesman Slaps Roof Of Car'),\n",
       " (84, 'Grumpy Cat'),\n",
       " (85, 'I Should Buy A Boat Cat'),\n",
       " (86, \"Don't You Squidward\"),\n",
       " (87, 'Marvel Civil War 1'),\n",
       " (88, 'Put It Somewhere Else Patrick'),\n",
       " (89, 'Uncle Sam'),\n",
       " (90, 'Shut Up And Take My Money Fry'),\n",
       " (91, 'Y U No'),\n",
       " (92, 'Success Kid Original'),\n",
       " (93, 'Face You Make Robert Downey Jr'),\n",
       " (94, 'Oprah You Get A Car Everybody Gets A Car'),\n",
       " (95, 'Say it Again, Dexter'),\n",
       " (96, 'Keep Calm And Carry On Red'),\n",
       " (97, 'Laughing Men In Suits'),\n",
       " (98, \"I'll Just Wait Here\"),\n",
       " (99, 'Pepperidge Farm Remembers')]"
      ]
     },
     "execution_count": 50,
     "metadata": {},
     "output_type": "execute_result"
    }
   ],
   "source": [
    "[(index, image['name']) for index, image in enumerate(images)]"
   ]
  },
  {
   "cell_type": "code",
   "execution_count": 19,
   "metadata": {},
   "outputs": [
    {
     "name": "stdout",
     "output_type": "stream",
     "text": [
      "0 Drake Hotline Bling\n",
      "1 Two Buttons\n",
      "2 Distracted Boyfriend\n",
      "3 Running Away Balloon\n",
      "4 UNO Draw 25 Cards\n",
      "5 Left Exit 12 Off Ramp\n",
      "6 Buff Doge vs. Cheems\n",
      "7 Change My Mind\n",
      "8 Gru's Plan\n",
      "9 Bernie I Am Once Again Asking For Your Support\n",
      "10 Batman Slapping Robin\n",
      "11 Waiting Skeleton\n",
      "12 Expanding Brain\n",
      "13 Disaster Girl\n",
      "14 Epic Handshake\n",
      "15 Woman Yelling At Cat\n",
      "16 Sad Pablo Escobar\n",
      "17 Tuxedo Winnie The Pooh\n",
      "18 Boardroom Meeting Suggestion\n",
      "19 Monkey Puppet\n",
      "20 Always Has Been\n",
      "21 Blank Nut Button\n",
      "22 X, X Everywhere\n",
      "23 I Bet He's Thinking About Other Women\n",
      "24 Mocking Spongebob\n",
      "25 Panik Kalm Panik\n",
      "26 They're The Same Picture\n",
      "27 Hide the Pain Harold\n",
      "28 Bike Fall\n",
      "29 Guy Holding Cardboard Sign\n",
      "30 Clown Applying Makeup\n",
      "31 Is This A Pigeon\n",
      "32 Inhaling Seagull\n",
      "33 One Does Not Simply\n",
      "34 This Is Fine\n",
      "35 The Scroll Of Truth\n",
      "36 Ancient Aliens\n",
      "37 Success Kid\n",
      "38 Roll Safe Think About It\n",
      "39 This Is Where I'd Put My Trophy If I Had One\n",
      "40 Who Killed Hannibal\n",
      "41 Surprised Pikachu\n",
      "42 American Chopper Argument\n",
      "43 The Rock Driving\n",
      "44 Sleeping Shaq\n",
      "45 Marked Safe From\n",
      "46 Evil Kermit\n",
      "47 Y'all Got Any More Of That\n",
      "48 Oprah You Get A\n",
      "49 Laughing Leo\n",
      "50 Unsettled Tom\n",
      "51 Third World Skeptical Kid\n",
      "52 Finding Neverland\n",
      "53 Futurama Fry\n",
      "54 Grandma Finds The Internet\n",
      "55 Spongebob Ight Imma Head Out\n",
      "56 Hard To Swallow Pills\n",
      "57 Trump Bill Signing\n",
      "58 Leonardo Dicaprio Cheers\n",
      "59 Doge\n",
      "60 Star Wars Yoda\n",
      "61 That Would Be Great\n",
      "62 Cute Cat\n",
      "63 The Most Interesting Man In The World\n",
      "64 Look At Me\n",
      "65 But That's None Of My Business\n",
      "66 Imagination Spongebob\n",
      "67 Mugatu So Hot Right Now\n",
      "68 Scared Cat\n",
      "69 Jack Sparrow Being Chased\n",
      "70 Bad Luck Brian\n",
      "71 Brace Yourselves X is Coming\n",
      "72 See Nobody Cares\n",
      "73 First World Problems\n",
      "74 Be Like Bill\n",
      "75 Afraid To Ask Andy\n",
      "76 Too Damn High\n",
      "77 I'm The Captain Now\n",
      "78 Squidward\n",
      "79 Yo Dawg Heard You\n",
      "80 Who Would Win?\n",
      "81 X All The Y\n",
      "82 Third World Success Kid\n",
      "83 Car Salesman Slaps Roof Of Car\n",
      "84 Grumpy Cat\n",
      "85 I Should Buy A Boat Cat\n",
      "86 Don't You Squidward\n",
      "87 Marvel Civil War 1\n",
      "88 Put It Somewhere Else Patrick\n",
      "89 Uncle Sam\n",
      "90 Shut Up And Take My Money Fry\n",
      "91 Y U No\n",
      "92 Success Kid Original\n",
      "93 Face You Make Robert Downey Jr\n",
      "94 Oprah You Get A Car Everybody Gets A Car\n",
      "95 Say it Again, Dexter\n",
      "96 Keep Calm And Carry On Red\n",
      "97 Laughing Men In Suits\n",
      "98 I'll Just Wait Here\n",
      "99 Pepperidge Farm Remembers\n"
     ]
    }
   ],
   "source": [
    "for index, img in enumerate(images):\n",
    "    print(index, img['name'])"
   ]
  },
  {
   "cell_type": "code",
   "execution_count": 24,
   "metadata": {},
   "outputs": [
    {
     "data": {
      "text/plain": [
       "'https://i.imgflip.com/30b1gx.jpg'"
      ]
     },
     "execution_count": 24,
     "metadata": {},
     "output_type": "execute_result"
    }
   ],
   "source": [
    "images[0]['url']"
   ]
  },
  {
   "cell_type": "code",
   "execution_count": 43,
   "metadata": {},
   "outputs": [
    {
     "data": {
      "text/plain": [
       "'181913649'"
      ]
     },
     "execution_count": 43,
     "metadata": {},
     "output_type": "execute_result"
    }
   ],
   "source": [
    "images[0]['id']"
   ]
  },
  {
   "cell_type": "code",
   "execution_count": 34,
   "metadata": {},
   "outputs": [],
   "source": [
    "import random\n",
    "\n",
    "#for i in range(100):\n",
    "meme_img = random.choice(images)['url']"
   ]
  },
  {
   "cell_type": "code",
   "execution_count": 35,
   "metadata": {},
   "outputs": [
    {
     "data": {
      "text/plain": [
       "'https://i.imgflip.com/1ihzfe.jpg'"
      ]
     },
     "execution_count": 35,
     "metadata": {},
     "output_type": "execute_result"
    }
   ],
   "source": [
    "meme_img"
   ]
  },
  {
   "cell_type": "code",
   "execution_count": 40,
   "metadata": {},
   "outputs": [],
   "source": [
    "def random_meme():\n",
    "    data = requests.get(\"https://api.imgflip.com/get_memes\")\n",
    "    if data.status_code == 200:\n",
    "        meme_data = data.json()['data']['memes']\n",
    "        images = [{'name': image['name'], 'url':image['url'],\n",
    "                   'id':image['id']} for image in meme_data]\n",
    "        random_meme = random.choice(images)['url']\n",
    "        return f\"Url: {random_meme}\"\n",
    "    else:\n",
    "        return f\"Invalid Response:{data.status_code} Code\""
   ]
  },
  {
   "cell_type": "code",
   "execution_count": 41,
   "metadata": {},
   "outputs": [
    {
     "data": {
      "text/plain": [
       "'Url: https://i.imgflip.com/2ybua0.png'"
      ]
     },
     "execution_count": 41,
     "metadata": {},
     "output_type": "execute_result"
    }
   ],
   "source": [
    "random_meme()"
   ]
  },
  {
   "cell_type": "code",
   "execution_count": 44,
   "metadata": {},
   "outputs": [],
   "source": [
    "id = int(input(\"Enter ndex value:\"))\n",
    "text0 = input('Enter first text : ')\n",
    "text1 = input('Enter second text : ')"
   ]
  },
  {
   "cell_type": "code",
   "execution_count": 45,
   "metadata": {},
   "outputs": [
    {
     "name": "stdout",
     "output_type": "stream",
     "text": [
      "{'success': True, 'data': {'url': 'https://i.imgflip.com/6deho1.jpg', 'page_url': 'https://imgflip.com/i/6deho1'}}\n"
     ]
    }
   ],
   "source": [
    "URL = 'https://api.imgflip.com/caption_image'\n",
    "params = {\n",
    "    'username':username,\n",
    "    'password':password,\n",
    "    'template_id':images[id-1]['id'],\n",
    "    'text0':text0,\n",
    "    'text1':text1\n",
    "}\n",
    "response = requests.request('POST',URL,params=params).json()\n",
    "print(response)"
   ]
  },
  {
   "cell_type": "code",
   "execution_count": 47,
   "metadata": {},
   "outputs": [
    {
     "ename": "OSError",
     "evalue": "[Errno socket error] [SSL: CERTIFICATE_VERIFY_FAILED] certificate verify failed: unable to get local issuer certificate (_ssl.c:997)",
     "output_type": "error",
     "traceback": [
      "\u001b[0;31m---------------------------------------------------------------------------\u001b[0m",
      "\u001b[0;31mSSLCertVerificationError\u001b[0m                  Traceback (most recent call last)",
      "File \u001b[0;32m/Library/Frameworks/Python.framework/Versions/3.10/lib/python3.10/urllib/request.py:1788\u001b[0m, in \u001b[0;36mURLopener.open\u001b[0;34m(self, fullurl, data)\u001b[0m\n\u001b[1;32m   <a href='file:///Library/Frameworks/Python.framework/Versions/3.10/lib/python3.10/urllib/request.py?line=1786'>1787</a>\u001b[0m \u001b[39mif\u001b[39;00m data \u001b[39mis\u001b[39;00m \u001b[39mNone\u001b[39;00m:\n\u001b[0;32m-> <a href='file:///Library/Frameworks/Python.framework/Versions/3.10/lib/python3.10/urllib/request.py?line=1787'>1788</a>\u001b[0m     \u001b[39mreturn\u001b[39;00m \u001b[39mgetattr\u001b[39;49m(\u001b[39mself\u001b[39;49m, name)(url)\n\u001b[1;32m   <a href='file:///Library/Frameworks/Python.framework/Versions/3.10/lib/python3.10/urllib/request.py?line=1788'>1789</a>\u001b[0m \u001b[39melse\u001b[39;00m:\n",
      "File \u001b[0;32m/Library/Frameworks/Python.framework/Versions/3.10/lib/python3.10/urllib/request.py:1997\u001b[0m, in \u001b[0;36mURLopener.open_https\u001b[0;34m(self, url, data)\u001b[0m\n\u001b[1;32m   <a href='file:///Library/Frameworks/Python.framework/Versions/3.10/lib/python3.10/urllib/request.py?line=1995'>1996</a>\u001b[0m \u001b[39m\"\"\"Use HTTPS protocol.\"\"\"\u001b[39;00m\n\u001b[0;32m-> <a href='file:///Library/Frameworks/Python.framework/Versions/3.10/lib/python3.10/urllib/request.py?line=1996'>1997</a>\u001b[0m \u001b[39mreturn\u001b[39;00m \u001b[39mself\u001b[39;49m\u001b[39m.\u001b[39;49m_open_generic_http(\u001b[39mself\u001b[39;49m\u001b[39m.\u001b[39;49m_https_connection, url, data)\n",
      "File \u001b[0;32m/Library/Frameworks/Python.framework/Versions/3.10/lib/python3.10/urllib/request.py:1946\u001b[0m, in \u001b[0;36mURLopener._open_generic_http\u001b[0;34m(self, connection_factory, url, data)\u001b[0m\n\u001b[1;32m   <a href='file:///Library/Frameworks/Python.framework/Versions/3.10/lib/python3.10/urllib/request.py?line=1944'>1945</a>\u001b[0m \u001b[39melse\u001b[39;00m:\n\u001b[0;32m-> <a href='file:///Library/Frameworks/Python.framework/Versions/3.10/lib/python3.10/urllib/request.py?line=1945'>1946</a>\u001b[0m     http_conn\u001b[39m.\u001b[39;49mrequest(\u001b[39m\"\u001b[39;49m\u001b[39mGET\u001b[39;49m\u001b[39m\"\u001b[39;49m, selector, headers\u001b[39m=\u001b[39;49mheaders)\n\u001b[1;32m   <a href='file:///Library/Frameworks/Python.framework/Versions/3.10/lib/python3.10/urllib/request.py?line=1947'>1948</a>\u001b[0m \u001b[39mtry\u001b[39;00m:\n",
      "File \u001b[0;32m/Library/Frameworks/Python.framework/Versions/3.10/lib/python3.10/http/client.py:1276\u001b[0m, in \u001b[0;36mHTTPConnection.request\u001b[0;34m(self, method, url, body, headers, encode_chunked)\u001b[0m\n\u001b[1;32m   <a href='file:///Library/Frameworks/Python.framework/Versions/3.10/lib/python3.10/http/client.py?line=1274'>1275</a>\u001b[0m \u001b[39m\"\"\"Send a complete request to the server.\"\"\"\u001b[39;00m\n\u001b[0;32m-> <a href='file:///Library/Frameworks/Python.framework/Versions/3.10/lib/python3.10/http/client.py?line=1275'>1276</a>\u001b[0m \u001b[39mself\u001b[39;49m\u001b[39m.\u001b[39;49m_send_request(method, url, body, headers, encode_chunked)\n",
      "File \u001b[0;32m/Library/Frameworks/Python.framework/Versions/3.10/lib/python3.10/http/client.py:1322\u001b[0m, in \u001b[0;36mHTTPConnection._send_request\u001b[0;34m(self, method, url, body, headers, encode_chunked)\u001b[0m\n\u001b[1;32m   <a href='file:///Library/Frameworks/Python.framework/Versions/3.10/lib/python3.10/http/client.py?line=1320'>1321</a>\u001b[0m     body \u001b[39m=\u001b[39m _encode(body, \u001b[39m'\u001b[39m\u001b[39mbody\u001b[39m\u001b[39m'\u001b[39m)\n\u001b[0;32m-> <a href='file:///Library/Frameworks/Python.framework/Versions/3.10/lib/python3.10/http/client.py?line=1321'>1322</a>\u001b[0m \u001b[39mself\u001b[39;49m\u001b[39m.\u001b[39;49mendheaders(body, encode_chunked\u001b[39m=\u001b[39;49mencode_chunked)\n",
      "File \u001b[0;32m/Library/Frameworks/Python.framework/Versions/3.10/lib/python3.10/http/client.py:1271\u001b[0m, in \u001b[0;36mHTTPConnection.endheaders\u001b[0;34m(self, message_body, encode_chunked)\u001b[0m\n\u001b[1;32m   <a href='file:///Library/Frameworks/Python.framework/Versions/3.10/lib/python3.10/http/client.py?line=1269'>1270</a>\u001b[0m     \u001b[39mraise\u001b[39;00m CannotSendHeader()\n\u001b[0;32m-> <a href='file:///Library/Frameworks/Python.framework/Versions/3.10/lib/python3.10/http/client.py?line=1270'>1271</a>\u001b[0m \u001b[39mself\u001b[39;49m\u001b[39m.\u001b[39;49m_send_output(message_body, encode_chunked\u001b[39m=\u001b[39;49mencode_chunked)\n",
      "File \u001b[0;32m/Library/Frameworks/Python.framework/Versions/3.10/lib/python3.10/http/client.py:1031\u001b[0m, in \u001b[0;36mHTTPConnection._send_output\u001b[0;34m(self, message_body, encode_chunked)\u001b[0m\n\u001b[1;32m   <a href='file:///Library/Frameworks/Python.framework/Versions/3.10/lib/python3.10/http/client.py?line=1029'>1030</a>\u001b[0m \u001b[39mdel\u001b[39;00m \u001b[39mself\u001b[39m\u001b[39m.\u001b[39m_buffer[:]\n\u001b[0;32m-> <a href='file:///Library/Frameworks/Python.framework/Versions/3.10/lib/python3.10/http/client.py?line=1030'>1031</a>\u001b[0m \u001b[39mself\u001b[39;49m\u001b[39m.\u001b[39;49msend(msg)\n\u001b[1;32m   <a href='file:///Library/Frameworks/Python.framework/Versions/3.10/lib/python3.10/http/client.py?line=1032'>1033</a>\u001b[0m \u001b[39mif\u001b[39;00m message_body \u001b[39mis\u001b[39;00m \u001b[39mnot\u001b[39;00m \u001b[39mNone\u001b[39;00m:\n\u001b[1;32m   <a href='file:///Library/Frameworks/Python.framework/Versions/3.10/lib/python3.10/http/client.py?line=1033'>1034</a>\u001b[0m \n\u001b[1;32m   <a href='file:///Library/Frameworks/Python.framework/Versions/3.10/lib/python3.10/http/client.py?line=1034'>1035</a>\u001b[0m     \u001b[39m# create a consistent interface to message_body\u001b[39;00m\n",
      "File \u001b[0;32m/Library/Frameworks/Python.framework/Versions/3.10/lib/python3.10/http/client.py:969\u001b[0m, in \u001b[0;36mHTTPConnection.send\u001b[0;34m(self, data)\u001b[0m\n\u001b[1;32m    <a href='file:///Library/Frameworks/Python.framework/Versions/3.10/lib/python3.10/http/client.py?line=967'>968</a>\u001b[0m \u001b[39mif\u001b[39;00m \u001b[39mself\u001b[39m\u001b[39m.\u001b[39mauto_open:\n\u001b[0;32m--> <a href='file:///Library/Frameworks/Python.framework/Versions/3.10/lib/python3.10/http/client.py?line=968'>969</a>\u001b[0m     \u001b[39mself\u001b[39;49m\u001b[39m.\u001b[39;49mconnect()\n\u001b[1;32m    <a href='file:///Library/Frameworks/Python.framework/Versions/3.10/lib/python3.10/http/client.py?line=969'>970</a>\u001b[0m \u001b[39melse\u001b[39;00m:\n",
      "File \u001b[0;32m/Library/Frameworks/Python.framework/Versions/3.10/lib/python3.10/http/client.py:1448\u001b[0m, in \u001b[0;36mHTTPSConnection.connect\u001b[0;34m(self)\u001b[0m\n\u001b[1;32m   <a href='file:///Library/Frameworks/Python.framework/Versions/3.10/lib/python3.10/http/client.py?line=1445'>1446</a>\u001b[0m     server_hostname \u001b[39m=\u001b[39m \u001b[39mself\u001b[39m\u001b[39m.\u001b[39mhost\n\u001b[0;32m-> <a href='file:///Library/Frameworks/Python.framework/Versions/3.10/lib/python3.10/http/client.py?line=1447'>1448</a>\u001b[0m \u001b[39mself\u001b[39m\u001b[39m.\u001b[39msock \u001b[39m=\u001b[39m \u001b[39mself\u001b[39;49m\u001b[39m.\u001b[39;49m_context\u001b[39m.\u001b[39;49mwrap_socket(\u001b[39mself\u001b[39;49m\u001b[39m.\u001b[39;49msock,\n\u001b[1;32m   <a href='file:///Library/Frameworks/Python.framework/Versions/3.10/lib/python3.10/http/client.py?line=1448'>1449</a>\u001b[0m                                       server_hostname\u001b[39m=\u001b[39;49mserver_hostname)\n",
      "File \u001b[0;32m/Library/Frameworks/Python.framework/Versions/3.10/lib/python3.10/ssl.py:512\u001b[0m, in \u001b[0;36mSSLContext.wrap_socket\u001b[0;34m(self, sock, server_side, do_handshake_on_connect, suppress_ragged_eofs, server_hostname, session)\u001b[0m\n\u001b[1;32m    <a href='file:///Library/Frameworks/Python.framework/Versions/3.10/lib/python3.10/ssl.py?line=505'>506</a>\u001b[0m \u001b[39mdef\u001b[39;00m \u001b[39mwrap_socket\u001b[39m(\u001b[39mself\u001b[39m, sock, server_side\u001b[39m=\u001b[39m\u001b[39mFalse\u001b[39;00m,\n\u001b[1;32m    <a href='file:///Library/Frameworks/Python.framework/Versions/3.10/lib/python3.10/ssl.py?line=506'>507</a>\u001b[0m                 do_handshake_on_connect\u001b[39m=\u001b[39m\u001b[39mTrue\u001b[39;00m,\n\u001b[1;32m    <a href='file:///Library/Frameworks/Python.framework/Versions/3.10/lib/python3.10/ssl.py?line=507'>508</a>\u001b[0m                 suppress_ragged_eofs\u001b[39m=\u001b[39m\u001b[39mTrue\u001b[39;00m,\n\u001b[1;32m    <a href='file:///Library/Frameworks/Python.framework/Versions/3.10/lib/python3.10/ssl.py?line=508'>509</a>\u001b[0m                 server_hostname\u001b[39m=\u001b[39m\u001b[39mNone\u001b[39;00m, session\u001b[39m=\u001b[39m\u001b[39mNone\u001b[39;00m):\n\u001b[1;32m    <a href='file:///Library/Frameworks/Python.framework/Versions/3.10/lib/python3.10/ssl.py?line=509'>510</a>\u001b[0m     \u001b[39m# SSLSocket class handles server_hostname encoding before it calls\u001b[39;00m\n\u001b[1;32m    <a href='file:///Library/Frameworks/Python.framework/Versions/3.10/lib/python3.10/ssl.py?line=510'>511</a>\u001b[0m     \u001b[39m# ctx._wrap_socket()\u001b[39;00m\n\u001b[0;32m--> <a href='file:///Library/Frameworks/Python.framework/Versions/3.10/lib/python3.10/ssl.py?line=511'>512</a>\u001b[0m     \u001b[39mreturn\u001b[39;00m \u001b[39mself\u001b[39;49m\u001b[39m.\u001b[39;49msslsocket_class\u001b[39m.\u001b[39;49m_create(\n\u001b[1;32m    <a href='file:///Library/Frameworks/Python.framework/Versions/3.10/lib/python3.10/ssl.py?line=512'>513</a>\u001b[0m         sock\u001b[39m=\u001b[39;49msock,\n\u001b[1;32m    <a href='file:///Library/Frameworks/Python.framework/Versions/3.10/lib/python3.10/ssl.py?line=513'>514</a>\u001b[0m         server_side\u001b[39m=\u001b[39;49mserver_side,\n\u001b[1;32m    <a href='file:///Library/Frameworks/Python.framework/Versions/3.10/lib/python3.10/ssl.py?line=514'>515</a>\u001b[0m         do_handshake_on_connect\u001b[39m=\u001b[39;49mdo_handshake_on_connect,\n\u001b[1;32m    <a href='file:///Library/Frameworks/Python.framework/Versions/3.10/lib/python3.10/ssl.py?line=515'>516</a>\u001b[0m         suppress_ragged_eofs\u001b[39m=\u001b[39;49msuppress_ragged_eofs,\n\u001b[1;32m    <a href='file:///Library/Frameworks/Python.framework/Versions/3.10/lib/python3.10/ssl.py?line=516'>517</a>\u001b[0m         server_hostname\u001b[39m=\u001b[39;49mserver_hostname,\n\u001b[1;32m    <a href='file:///Library/Frameworks/Python.framework/Versions/3.10/lib/python3.10/ssl.py?line=517'>518</a>\u001b[0m         context\u001b[39m=\u001b[39;49m\u001b[39mself\u001b[39;49m,\n\u001b[1;32m    <a href='file:///Library/Frameworks/Python.framework/Versions/3.10/lib/python3.10/ssl.py?line=518'>519</a>\u001b[0m         session\u001b[39m=\u001b[39;49msession\n\u001b[1;32m    <a href='file:///Library/Frameworks/Python.framework/Versions/3.10/lib/python3.10/ssl.py?line=519'>520</a>\u001b[0m     )\n",
      "File \u001b[0;32m/Library/Frameworks/Python.framework/Versions/3.10/lib/python3.10/ssl.py:1070\u001b[0m, in \u001b[0;36mSSLSocket._create\u001b[0;34m(cls, sock, server_side, do_handshake_on_connect, suppress_ragged_eofs, server_hostname, context, session)\u001b[0m\n\u001b[1;32m   <a href='file:///Library/Frameworks/Python.framework/Versions/3.10/lib/python3.10/ssl.py?line=1068'>1069</a>\u001b[0m             \u001b[39mraise\u001b[39;00m \u001b[39mValueError\u001b[39;00m(\u001b[39m\"\u001b[39m\u001b[39mdo_handshake_on_connect should not be specified for non-blocking sockets\u001b[39m\u001b[39m\"\u001b[39m)\n\u001b[0;32m-> <a href='file:///Library/Frameworks/Python.framework/Versions/3.10/lib/python3.10/ssl.py?line=1069'>1070</a>\u001b[0m         \u001b[39mself\u001b[39;49m\u001b[39m.\u001b[39;49mdo_handshake()\n\u001b[1;32m   <a href='file:///Library/Frameworks/Python.framework/Versions/3.10/lib/python3.10/ssl.py?line=1070'>1071</a>\u001b[0m \u001b[39mexcept\u001b[39;00m (\u001b[39mOSError\u001b[39;00m, \u001b[39mValueError\u001b[39;00m):\n",
      "File \u001b[0;32m/Library/Frameworks/Python.framework/Versions/3.10/lib/python3.10/ssl.py:1341\u001b[0m, in \u001b[0;36mSSLSocket.do_handshake\u001b[0;34m(self, block)\u001b[0m\n\u001b[1;32m   <a href='file:///Library/Frameworks/Python.framework/Versions/3.10/lib/python3.10/ssl.py?line=1339'>1340</a>\u001b[0m         \u001b[39mself\u001b[39m\u001b[39m.\u001b[39msettimeout(\u001b[39mNone\u001b[39;00m)\n\u001b[0;32m-> <a href='file:///Library/Frameworks/Python.framework/Versions/3.10/lib/python3.10/ssl.py?line=1340'>1341</a>\u001b[0m     \u001b[39mself\u001b[39;49m\u001b[39m.\u001b[39;49m_sslobj\u001b[39m.\u001b[39;49mdo_handshake()\n\u001b[1;32m   <a href='file:///Library/Frameworks/Python.framework/Versions/3.10/lib/python3.10/ssl.py?line=1341'>1342</a>\u001b[0m \u001b[39mfinally\u001b[39;00m:\n",
      "\u001b[0;31mSSLCertVerificationError\u001b[0m: [SSL: CERTIFICATE_VERIFY_FAILED] certificate verify failed: unable to get local issuer certificate (_ssl.c:997)",
      "\nDuring handling of the above exception, another exception occurred:\n",
      "\u001b[0;31mOSError\u001b[0m                                   Traceback (most recent call last)",
      "\u001b[1;32m/Users/MusaML/Documents/Essentialist Bots/whatsapp-bot/testing.ipynb Cell 36'\u001b[0m in \u001b[0;36m<cell line: 3>\u001b[0;34m()\u001b[0m\n\u001b[1;32m      <a href='vscode-notebook-cell:/Users/MusaML/Documents/Essentialist%20Bots/whatsapp-bot/testing.ipynb#ch0000035?line=0'>1</a>\u001b[0m opener \u001b[39m=\u001b[39m urllib\u001b[39m.\u001b[39mrequest\u001b[39m.\u001b[39mURLopener()\n\u001b[1;32m      <a href='vscode-notebook-cell:/Users/MusaML/Documents/Essentialist%20Bots/whatsapp-bot/testing.ipynb#ch0000035?line=1'>2</a>\u001b[0m opener\u001b[39m.\u001b[39maddheader(\u001b[39m\"\u001b[39m\u001b[39mUser_Agent\u001b[39m\u001b[39m\"\u001b[39m, user_agent)\n\u001b[0;32m----> <a href='vscode-notebook-cell:/Users/MusaML/Documents/Essentialist%20Bots/whatsapp-bot/testing.ipynb#ch0000035?line=2'>3</a>\u001b[0m filename, headers \u001b[39m=\u001b[39m opener\u001b[39m.\u001b[39;49mretrieve(response[\u001b[39m'\u001b[39;49m\u001b[39mdata\u001b[39;49m\u001b[39m'\u001b[39;49m][\u001b[39m'\u001b[39;49m\u001b[39murl\u001b[39;49m\u001b[39m'\u001b[39;49m],images[\u001b[39mid\u001b[39;49m\u001b[39m-\u001b[39;49m\u001b[39m1\u001b[39;49m][\u001b[39m'\u001b[39;49m\u001b[39mname\u001b[39;49m\u001b[39m'\u001b[39;49m]\u001b[39m+\u001b[39;49m\u001b[39m'\u001b[39;49m\u001b[39m.jpg\u001b[39;49m\u001b[39m'\u001b[39;49m)\n",
      "File \u001b[0;32m/Library/Frameworks/Python.framework/Versions/3.10/lib/python3.10/urllib/request.py:1822\u001b[0m, in \u001b[0;36mURLopener.retrieve\u001b[0;34m(self, url, filename, reporthook, data)\u001b[0m\n\u001b[1;32m   <a href='file:///Library/Frameworks/Python.framework/Versions/3.10/lib/python3.10/urllib/request.py?line=1819'>1820</a>\u001b[0m     \u001b[39mexcept\u001b[39;00m \u001b[39mOSError\u001b[39;00m:\n\u001b[1;32m   <a href='file:///Library/Frameworks/Python.framework/Versions/3.10/lib/python3.10/urllib/request.py?line=1820'>1821</a>\u001b[0m         \u001b[39mpass\u001b[39;00m\n\u001b[0;32m-> <a href='file:///Library/Frameworks/Python.framework/Versions/3.10/lib/python3.10/urllib/request.py?line=1821'>1822</a>\u001b[0m fp \u001b[39m=\u001b[39m \u001b[39mself\u001b[39;49m\u001b[39m.\u001b[39;49mopen(url, data)\n\u001b[1;32m   <a href='file:///Library/Frameworks/Python.framework/Versions/3.10/lib/python3.10/urllib/request.py?line=1822'>1823</a>\u001b[0m \u001b[39mtry\u001b[39;00m:\n\u001b[1;32m   <a href='file:///Library/Frameworks/Python.framework/Versions/3.10/lib/python3.10/urllib/request.py?line=1823'>1824</a>\u001b[0m     headers \u001b[39m=\u001b[39m fp\u001b[39m.\u001b[39minfo()\n",
      "File \u001b[0;32m/Library/Frameworks/Python.framework/Versions/3.10/lib/python3.10/urllib/request.py:1794\u001b[0m, in \u001b[0;36mURLopener.open\u001b[0;34m(self, fullurl, data)\u001b[0m\n\u001b[1;32m   <a href='file:///Library/Frameworks/Python.framework/Versions/3.10/lib/python3.10/urllib/request.py?line=1791'>1792</a>\u001b[0m     \u001b[39mraise\u001b[39;00m\n\u001b[1;32m   <a href='file:///Library/Frameworks/Python.framework/Versions/3.10/lib/python3.10/urllib/request.py?line=1792'>1793</a>\u001b[0m \u001b[39mexcept\u001b[39;00m \u001b[39mOSError\u001b[39;00m \u001b[39mas\u001b[39;00m msg:\n\u001b[0;32m-> <a href='file:///Library/Frameworks/Python.framework/Versions/3.10/lib/python3.10/urllib/request.py?line=1793'>1794</a>\u001b[0m     \u001b[39mraise\u001b[39;00m \u001b[39mOSError\u001b[39;00m(\u001b[39m'\u001b[39m\u001b[39msocket error\u001b[39m\u001b[39m'\u001b[39m, msg)\u001b[39m.\u001b[39mwith_traceback(sys\u001b[39m.\u001b[39mexc_info()[\u001b[39m2\u001b[39m])\n",
      "File \u001b[0;32m/Library/Frameworks/Python.framework/Versions/3.10/lib/python3.10/urllib/request.py:1788\u001b[0m, in \u001b[0;36mURLopener.open\u001b[0;34m(self, fullurl, data)\u001b[0m\n\u001b[1;32m   <a href='file:///Library/Frameworks/Python.framework/Versions/3.10/lib/python3.10/urllib/request.py?line=1785'>1786</a>\u001b[0m \u001b[39mtry\u001b[39;00m:\n\u001b[1;32m   <a href='file:///Library/Frameworks/Python.framework/Versions/3.10/lib/python3.10/urllib/request.py?line=1786'>1787</a>\u001b[0m     \u001b[39mif\u001b[39;00m data \u001b[39mis\u001b[39;00m \u001b[39mNone\u001b[39;00m:\n\u001b[0;32m-> <a href='file:///Library/Frameworks/Python.framework/Versions/3.10/lib/python3.10/urllib/request.py?line=1787'>1788</a>\u001b[0m         \u001b[39mreturn\u001b[39;00m \u001b[39mgetattr\u001b[39;49m(\u001b[39mself\u001b[39;49m, name)(url)\n\u001b[1;32m   <a href='file:///Library/Frameworks/Python.framework/Versions/3.10/lib/python3.10/urllib/request.py?line=1788'>1789</a>\u001b[0m     \u001b[39melse\u001b[39;00m:\n\u001b[1;32m   <a href='file:///Library/Frameworks/Python.framework/Versions/3.10/lib/python3.10/urllib/request.py?line=1789'>1790</a>\u001b[0m         \u001b[39mreturn\u001b[39;00m \u001b[39mgetattr\u001b[39m(\u001b[39mself\u001b[39m, name)(url, data)\n",
      "File \u001b[0;32m/Library/Frameworks/Python.framework/Versions/3.10/lib/python3.10/urllib/request.py:1997\u001b[0m, in \u001b[0;36mURLopener.open_https\u001b[0;34m(self, url, data)\u001b[0m\n\u001b[1;32m   <a href='file:///Library/Frameworks/Python.framework/Versions/3.10/lib/python3.10/urllib/request.py?line=1994'>1995</a>\u001b[0m \u001b[39mdef\u001b[39;00m \u001b[39mopen_https\u001b[39m(\u001b[39mself\u001b[39m, url, data\u001b[39m=\u001b[39m\u001b[39mNone\u001b[39;00m):\n\u001b[1;32m   <a href='file:///Library/Frameworks/Python.framework/Versions/3.10/lib/python3.10/urllib/request.py?line=1995'>1996</a>\u001b[0m     \u001b[39m\"\"\"Use HTTPS protocol.\"\"\"\u001b[39;00m\n\u001b[0;32m-> <a href='file:///Library/Frameworks/Python.framework/Versions/3.10/lib/python3.10/urllib/request.py?line=1996'>1997</a>\u001b[0m     \u001b[39mreturn\u001b[39;00m \u001b[39mself\u001b[39;49m\u001b[39m.\u001b[39;49m_open_generic_http(\u001b[39mself\u001b[39;49m\u001b[39m.\u001b[39;49m_https_connection, url, data)\n",
      "File \u001b[0;32m/Library/Frameworks/Python.framework/Versions/3.10/lib/python3.10/urllib/request.py:1946\u001b[0m, in \u001b[0;36mURLopener._open_generic_http\u001b[0;34m(self, connection_factory, url, data)\u001b[0m\n\u001b[1;32m   <a href='file:///Library/Frameworks/Python.framework/Versions/3.10/lib/python3.10/urllib/request.py?line=1943'>1944</a>\u001b[0m     http_conn\u001b[39m.\u001b[39mrequest(\u001b[39m\"\u001b[39m\u001b[39mPOST\u001b[39m\u001b[39m\"\u001b[39m, selector, data, headers)\n\u001b[1;32m   <a href='file:///Library/Frameworks/Python.framework/Versions/3.10/lib/python3.10/urllib/request.py?line=1944'>1945</a>\u001b[0m \u001b[39melse\u001b[39;00m:\n\u001b[0;32m-> <a href='file:///Library/Frameworks/Python.framework/Versions/3.10/lib/python3.10/urllib/request.py?line=1945'>1946</a>\u001b[0m     http_conn\u001b[39m.\u001b[39;49mrequest(\u001b[39m\"\u001b[39;49m\u001b[39mGET\u001b[39;49m\u001b[39m\"\u001b[39;49m, selector, headers\u001b[39m=\u001b[39;49mheaders)\n\u001b[1;32m   <a href='file:///Library/Frameworks/Python.framework/Versions/3.10/lib/python3.10/urllib/request.py?line=1947'>1948</a>\u001b[0m \u001b[39mtry\u001b[39;00m:\n\u001b[1;32m   <a href='file:///Library/Frameworks/Python.framework/Versions/3.10/lib/python3.10/urllib/request.py?line=1948'>1949</a>\u001b[0m     response \u001b[39m=\u001b[39m http_conn\u001b[39m.\u001b[39mgetresponse()\n",
      "File \u001b[0;32m/Library/Frameworks/Python.framework/Versions/3.10/lib/python3.10/http/client.py:1276\u001b[0m, in \u001b[0;36mHTTPConnection.request\u001b[0;34m(self, method, url, body, headers, encode_chunked)\u001b[0m\n\u001b[1;32m   <a href='file:///Library/Frameworks/Python.framework/Versions/3.10/lib/python3.10/http/client.py?line=1272'>1273</a>\u001b[0m \u001b[39mdef\u001b[39;00m \u001b[39mrequest\u001b[39m(\u001b[39mself\u001b[39m, method, url, body\u001b[39m=\u001b[39m\u001b[39mNone\u001b[39;00m, headers\u001b[39m=\u001b[39m{}, \u001b[39m*\u001b[39m,\n\u001b[1;32m   <a href='file:///Library/Frameworks/Python.framework/Versions/3.10/lib/python3.10/http/client.py?line=1273'>1274</a>\u001b[0m             encode_chunked\u001b[39m=\u001b[39m\u001b[39mFalse\u001b[39;00m):\n\u001b[1;32m   <a href='file:///Library/Frameworks/Python.framework/Versions/3.10/lib/python3.10/http/client.py?line=1274'>1275</a>\u001b[0m     \u001b[39m\"\"\"Send a complete request to the server.\"\"\"\u001b[39;00m\n\u001b[0;32m-> <a href='file:///Library/Frameworks/Python.framework/Versions/3.10/lib/python3.10/http/client.py?line=1275'>1276</a>\u001b[0m     \u001b[39mself\u001b[39;49m\u001b[39m.\u001b[39;49m_send_request(method, url, body, headers, encode_chunked)\n",
      "File \u001b[0;32m/Library/Frameworks/Python.framework/Versions/3.10/lib/python3.10/http/client.py:1322\u001b[0m, in \u001b[0;36mHTTPConnection._send_request\u001b[0;34m(self, method, url, body, headers, encode_chunked)\u001b[0m\n\u001b[1;32m   <a href='file:///Library/Frameworks/Python.framework/Versions/3.10/lib/python3.10/http/client.py?line=1317'>1318</a>\u001b[0m \u001b[39mif\u001b[39;00m \u001b[39misinstance\u001b[39m(body, \u001b[39mstr\u001b[39m):\n\u001b[1;32m   <a href='file:///Library/Frameworks/Python.framework/Versions/3.10/lib/python3.10/http/client.py?line=1318'>1319</a>\u001b[0m     \u001b[39m# RFC 2616 Section 3.7.1 says that text default has a\u001b[39;00m\n\u001b[1;32m   <a href='file:///Library/Frameworks/Python.framework/Versions/3.10/lib/python3.10/http/client.py?line=1319'>1320</a>\u001b[0m     \u001b[39m# default charset of iso-8859-1.\u001b[39;00m\n\u001b[1;32m   <a href='file:///Library/Frameworks/Python.framework/Versions/3.10/lib/python3.10/http/client.py?line=1320'>1321</a>\u001b[0m     body \u001b[39m=\u001b[39m _encode(body, \u001b[39m'\u001b[39m\u001b[39mbody\u001b[39m\u001b[39m'\u001b[39m)\n\u001b[0;32m-> <a href='file:///Library/Frameworks/Python.framework/Versions/3.10/lib/python3.10/http/client.py?line=1321'>1322</a>\u001b[0m \u001b[39mself\u001b[39;49m\u001b[39m.\u001b[39;49mendheaders(body, encode_chunked\u001b[39m=\u001b[39;49mencode_chunked)\n",
      "File \u001b[0;32m/Library/Frameworks/Python.framework/Versions/3.10/lib/python3.10/http/client.py:1271\u001b[0m, in \u001b[0;36mHTTPConnection.endheaders\u001b[0;34m(self, message_body, encode_chunked)\u001b[0m\n\u001b[1;32m   <a href='file:///Library/Frameworks/Python.framework/Versions/3.10/lib/python3.10/http/client.py?line=1268'>1269</a>\u001b[0m \u001b[39melse\u001b[39;00m:\n\u001b[1;32m   <a href='file:///Library/Frameworks/Python.framework/Versions/3.10/lib/python3.10/http/client.py?line=1269'>1270</a>\u001b[0m     \u001b[39mraise\u001b[39;00m CannotSendHeader()\n\u001b[0;32m-> <a href='file:///Library/Frameworks/Python.framework/Versions/3.10/lib/python3.10/http/client.py?line=1270'>1271</a>\u001b[0m \u001b[39mself\u001b[39;49m\u001b[39m.\u001b[39;49m_send_output(message_body, encode_chunked\u001b[39m=\u001b[39;49mencode_chunked)\n",
      "File \u001b[0;32m/Library/Frameworks/Python.framework/Versions/3.10/lib/python3.10/http/client.py:1031\u001b[0m, in \u001b[0;36mHTTPConnection._send_output\u001b[0;34m(self, message_body, encode_chunked)\u001b[0m\n\u001b[1;32m   <a href='file:///Library/Frameworks/Python.framework/Versions/3.10/lib/python3.10/http/client.py?line=1028'>1029</a>\u001b[0m msg \u001b[39m=\u001b[39m \u001b[39mb\u001b[39m\u001b[39m\"\u001b[39m\u001b[39m\\r\u001b[39;00m\u001b[39m\\n\u001b[39;00m\u001b[39m\"\u001b[39m\u001b[39m.\u001b[39mjoin(\u001b[39mself\u001b[39m\u001b[39m.\u001b[39m_buffer)\n\u001b[1;32m   <a href='file:///Library/Frameworks/Python.framework/Versions/3.10/lib/python3.10/http/client.py?line=1029'>1030</a>\u001b[0m \u001b[39mdel\u001b[39;00m \u001b[39mself\u001b[39m\u001b[39m.\u001b[39m_buffer[:]\n\u001b[0;32m-> <a href='file:///Library/Frameworks/Python.framework/Versions/3.10/lib/python3.10/http/client.py?line=1030'>1031</a>\u001b[0m \u001b[39mself\u001b[39;49m\u001b[39m.\u001b[39;49msend(msg)\n\u001b[1;32m   <a href='file:///Library/Frameworks/Python.framework/Versions/3.10/lib/python3.10/http/client.py?line=1032'>1033</a>\u001b[0m \u001b[39mif\u001b[39;00m message_body \u001b[39mis\u001b[39;00m \u001b[39mnot\u001b[39;00m \u001b[39mNone\u001b[39;00m:\n\u001b[1;32m   <a href='file:///Library/Frameworks/Python.framework/Versions/3.10/lib/python3.10/http/client.py?line=1033'>1034</a>\u001b[0m \n\u001b[1;32m   <a href='file:///Library/Frameworks/Python.framework/Versions/3.10/lib/python3.10/http/client.py?line=1034'>1035</a>\u001b[0m     \u001b[39m# create a consistent interface to message_body\u001b[39;00m\n\u001b[1;32m   <a href='file:///Library/Frameworks/Python.framework/Versions/3.10/lib/python3.10/http/client.py?line=1035'>1036</a>\u001b[0m     \u001b[39mif\u001b[39;00m \u001b[39mhasattr\u001b[39m(message_body, \u001b[39m'\u001b[39m\u001b[39mread\u001b[39m\u001b[39m'\u001b[39m):\n\u001b[1;32m   <a href='file:///Library/Frameworks/Python.framework/Versions/3.10/lib/python3.10/http/client.py?line=1036'>1037</a>\u001b[0m         \u001b[39m# Let file-like take precedence over byte-like.  This\u001b[39;00m\n\u001b[1;32m   <a href='file:///Library/Frameworks/Python.framework/Versions/3.10/lib/python3.10/http/client.py?line=1037'>1038</a>\u001b[0m         \u001b[39m# is needed to allow the current position of mmap'ed\u001b[39;00m\n\u001b[1;32m   <a href='file:///Library/Frameworks/Python.framework/Versions/3.10/lib/python3.10/http/client.py?line=1038'>1039</a>\u001b[0m         \u001b[39m# files to be taken into account.\u001b[39;00m\n",
      "File \u001b[0;32m/Library/Frameworks/Python.framework/Versions/3.10/lib/python3.10/http/client.py:969\u001b[0m, in \u001b[0;36mHTTPConnection.send\u001b[0;34m(self, data)\u001b[0m\n\u001b[1;32m    <a href='file:///Library/Frameworks/Python.framework/Versions/3.10/lib/python3.10/http/client.py?line=966'>967</a>\u001b[0m \u001b[39mif\u001b[39;00m \u001b[39mself\u001b[39m\u001b[39m.\u001b[39msock \u001b[39mis\u001b[39;00m \u001b[39mNone\u001b[39;00m:\n\u001b[1;32m    <a href='file:///Library/Frameworks/Python.framework/Versions/3.10/lib/python3.10/http/client.py?line=967'>968</a>\u001b[0m     \u001b[39mif\u001b[39;00m \u001b[39mself\u001b[39m\u001b[39m.\u001b[39mauto_open:\n\u001b[0;32m--> <a href='file:///Library/Frameworks/Python.framework/Versions/3.10/lib/python3.10/http/client.py?line=968'>969</a>\u001b[0m         \u001b[39mself\u001b[39;49m\u001b[39m.\u001b[39;49mconnect()\n\u001b[1;32m    <a href='file:///Library/Frameworks/Python.framework/Versions/3.10/lib/python3.10/http/client.py?line=969'>970</a>\u001b[0m     \u001b[39melse\u001b[39;00m:\n\u001b[1;32m    <a href='file:///Library/Frameworks/Python.framework/Versions/3.10/lib/python3.10/http/client.py?line=970'>971</a>\u001b[0m         \u001b[39mraise\u001b[39;00m NotConnected()\n",
      "File \u001b[0;32m/Library/Frameworks/Python.framework/Versions/3.10/lib/python3.10/http/client.py:1448\u001b[0m, in \u001b[0;36mHTTPSConnection.connect\u001b[0;34m(self)\u001b[0m\n\u001b[1;32m   <a href='file:///Library/Frameworks/Python.framework/Versions/3.10/lib/python3.10/http/client.py?line=1444'>1445</a>\u001b[0m \u001b[39melse\u001b[39;00m:\n\u001b[1;32m   <a href='file:///Library/Frameworks/Python.framework/Versions/3.10/lib/python3.10/http/client.py?line=1445'>1446</a>\u001b[0m     server_hostname \u001b[39m=\u001b[39m \u001b[39mself\u001b[39m\u001b[39m.\u001b[39mhost\n\u001b[0;32m-> <a href='file:///Library/Frameworks/Python.framework/Versions/3.10/lib/python3.10/http/client.py?line=1447'>1448</a>\u001b[0m \u001b[39mself\u001b[39m\u001b[39m.\u001b[39msock \u001b[39m=\u001b[39m \u001b[39mself\u001b[39;49m\u001b[39m.\u001b[39;49m_context\u001b[39m.\u001b[39;49mwrap_socket(\u001b[39mself\u001b[39;49m\u001b[39m.\u001b[39;49msock,\n\u001b[1;32m   <a href='file:///Library/Frameworks/Python.framework/Versions/3.10/lib/python3.10/http/client.py?line=1448'>1449</a>\u001b[0m                                       server_hostname\u001b[39m=\u001b[39;49mserver_hostname)\n",
      "File \u001b[0;32m/Library/Frameworks/Python.framework/Versions/3.10/lib/python3.10/ssl.py:512\u001b[0m, in \u001b[0;36mSSLContext.wrap_socket\u001b[0;34m(self, sock, server_side, do_handshake_on_connect, suppress_ragged_eofs, server_hostname, session)\u001b[0m\n\u001b[1;32m    <a href='file:///Library/Frameworks/Python.framework/Versions/3.10/lib/python3.10/ssl.py?line=505'>506</a>\u001b[0m \u001b[39mdef\u001b[39;00m \u001b[39mwrap_socket\u001b[39m(\u001b[39mself\u001b[39m, sock, server_side\u001b[39m=\u001b[39m\u001b[39mFalse\u001b[39;00m,\n\u001b[1;32m    <a href='file:///Library/Frameworks/Python.framework/Versions/3.10/lib/python3.10/ssl.py?line=506'>507</a>\u001b[0m                 do_handshake_on_connect\u001b[39m=\u001b[39m\u001b[39mTrue\u001b[39;00m,\n\u001b[1;32m    <a href='file:///Library/Frameworks/Python.framework/Versions/3.10/lib/python3.10/ssl.py?line=507'>508</a>\u001b[0m                 suppress_ragged_eofs\u001b[39m=\u001b[39m\u001b[39mTrue\u001b[39;00m,\n\u001b[1;32m    <a href='file:///Library/Frameworks/Python.framework/Versions/3.10/lib/python3.10/ssl.py?line=508'>509</a>\u001b[0m                 server_hostname\u001b[39m=\u001b[39m\u001b[39mNone\u001b[39;00m, session\u001b[39m=\u001b[39m\u001b[39mNone\u001b[39;00m):\n\u001b[1;32m    <a href='file:///Library/Frameworks/Python.framework/Versions/3.10/lib/python3.10/ssl.py?line=509'>510</a>\u001b[0m     \u001b[39m# SSLSocket class handles server_hostname encoding before it calls\u001b[39;00m\n\u001b[1;32m    <a href='file:///Library/Frameworks/Python.framework/Versions/3.10/lib/python3.10/ssl.py?line=510'>511</a>\u001b[0m     \u001b[39m# ctx._wrap_socket()\u001b[39;00m\n\u001b[0;32m--> <a href='file:///Library/Frameworks/Python.framework/Versions/3.10/lib/python3.10/ssl.py?line=511'>512</a>\u001b[0m     \u001b[39mreturn\u001b[39;00m \u001b[39mself\u001b[39;49m\u001b[39m.\u001b[39;49msslsocket_class\u001b[39m.\u001b[39;49m_create(\n\u001b[1;32m    <a href='file:///Library/Frameworks/Python.framework/Versions/3.10/lib/python3.10/ssl.py?line=512'>513</a>\u001b[0m         sock\u001b[39m=\u001b[39;49msock,\n\u001b[1;32m    <a href='file:///Library/Frameworks/Python.framework/Versions/3.10/lib/python3.10/ssl.py?line=513'>514</a>\u001b[0m         server_side\u001b[39m=\u001b[39;49mserver_side,\n\u001b[1;32m    <a href='file:///Library/Frameworks/Python.framework/Versions/3.10/lib/python3.10/ssl.py?line=514'>515</a>\u001b[0m         do_handshake_on_connect\u001b[39m=\u001b[39;49mdo_handshake_on_connect,\n\u001b[1;32m    <a href='file:///Library/Frameworks/Python.framework/Versions/3.10/lib/python3.10/ssl.py?line=515'>516</a>\u001b[0m         suppress_ragged_eofs\u001b[39m=\u001b[39;49msuppress_ragged_eofs,\n\u001b[1;32m    <a href='file:///Library/Frameworks/Python.framework/Versions/3.10/lib/python3.10/ssl.py?line=516'>517</a>\u001b[0m         server_hostname\u001b[39m=\u001b[39;49mserver_hostname,\n\u001b[1;32m    <a href='file:///Library/Frameworks/Python.framework/Versions/3.10/lib/python3.10/ssl.py?line=517'>518</a>\u001b[0m         context\u001b[39m=\u001b[39;49m\u001b[39mself\u001b[39;49m,\n\u001b[1;32m    <a href='file:///Library/Frameworks/Python.framework/Versions/3.10/lib/python3.10/ssl.py?line=518'>519</a>\u001b[0m         session\u001b[39m=\u001b[39;49msession\n\u001b[1;32m    <a href='file:///Library/Frameworks/Python.framework/Versions/3.10/lib/python3.10/ssl.py?line=519'>520</a>\u001b[0m     )\n",
      "File \u001b[0;32m/Library/Frameworks/Python.framework/Versions/3.10/lib/python3.10/ssl.py:1070\u001b[0m, in \u001b[0;36mSSLSocket._create\u001b[0;34m(cls, sock, server_side, do_handshake_on_connect, suppress_ragged_eofs, server_hostname, context, session)\u001b[0m\n\u001b[1;32m   <a href='file:///Library/Frameworks/Python.framework/Versions/3.10/lib/python3.10/ssl.py?line=1066'>1067</a>\u001b[0m         \u001b[39mif\u001b[39;00m timeout \u001b[39m==\u001b[39m \u001b[39m0.0\u001b[39m:\n\u001b[1;32m   <a href='file:///Library/Frameworks/Python.framework/Versions/3.10/lib/python3.10/ssl.py?line=1067'>1068</a>\u001b[0m             \u001b[39m# non-blocking\u001b[39;00m\n\u001b[1;32m   <a href='file:///Library/Frameworks/Python.framework/Versions/3.10/lib/python3.10/ssl.py?line=1068'>1069</a>\u001b[0m             \u001b[39mraise\u001b[39;00m \u001b[39mValueError\u001b[39;00m(\u001b[39m\"\u001b[39m\u001b[39mdo_handshake_on_connect should not be specified for non-blocking sockets\u001b[39m\u001b[39m\"\u001b[39m)\n\u001b[0;32m-> <a href='file:///Library/Frameworks/Python.framework/Versions/3.10/lib/python3.10/ssl.py?line=1069'>1070</a>\u001b[0m         \u001b[39mself\u001b[39;49m\u001b[39m.\u001b[39;49mdo_handshake()\n\u001b[1;32m   <a href='file:///Library/Frameworks/Python.framework/Versions/3.10/lib/python3.10/ssl.py?line=1070'>1071</a>\u001b[0m \u001b[39mexcept\u001b[39;00m (\u001b[39mOSError\u001b[39;00m, \u001b[39mValueError\u001b[39;00m):\n\u001b[1;32m   <a href='file:///Library/Frameworks/Python.framework/Versions/3.10/lib/python3.10/ssl.py?line=1071'>1072</a>\u001b[0m     \u001b[39mself\u001b[39m\u001b[39m.\u001b[39mclose()\n",
      "File \u001b[0;32m/Library/Frameworks/Python.framework/Versions/3.10/lib/python3.10/ssl.py:1341\u001b[0m, in \u001b[0;36mSSLSocket.do_handshake\u001b[0;34m(self, block)\u001b[0m\n\u001b[1;32m   <a href='file:///Library/Frameworks/Python.framework/Versions/3.10/lib/python3.10/ssl.py?line=1338'>1339</a>\u001b[0m     \u001b[39mif\u001b[39;00m timeout \u001b[39m==\u001b[39m \u001b[39m0.0\u001b[39m \u001b[39mand\u001b[39;00m block:\n\u001b[1;32m   <a href='file:///Library/Frameworks/Python.framework/Versions/3.10/lib/python3.10/ssl.py?line=1339'>1340</a>\u001b[0m         \u001b[39mself\u001b[39m\u001b[39m.\u001b[39msettimeout(\u001b[39mNone\u001b[39;00m)\n\u001b[0;32m-> <a href='file:///Library/Frameworks/Python.framework/Versions/3.10/lib/python3.10/ssl.py?line=1340'>1341</a>\u001b[0m     \u001b[39mself\u001b[39;49m\u001b[39m.\u001b[39;49m_sslobj\u001b[39m.\u001b[39;49mdo_handshake()\n\u001b[1;32m   <a href='file:///Library/Frameworks/Python.framework/Versions/3.10/lib/python3.10/ssl.py?line=1341'>1342</a>\u001b[0m \u001b[39mfinally\u001b[39;00m:\n\u001b[1;32m   <a href='file:///Library/Frameworks/Python.framework/Versions/3.10/lib/python3.10/ssl.py?line=1342'>1343</a>\u001b[0m     \u001b[39mself\u001b[39m\u001b[39m.\u001b[39msettimeout(timeout)\n",
      "\u001b[0;31mOSError\u001b[0m: [Errno socket error] [SSL: CERTIFICATE_VERIFY_FAILED] certificate verify failed: unable to get local issuer certificate (_ssl.c:997)"
     ]
    }
   ],
   "source": [
    "opener = urllib.request.URLopener()\n",
    "opener.addheader(\"User_Agent\", user_agent)\n",
    "filename, headers = opener.retrieve(response['data']['url'],images[id-1]['name']+'.jpg')"
   ]
  },
  {
   "cell_type": "code",
   "execution_count": 78,
   "metadata": {},
   "outputs": [],
   "source": [
    "def create_meme(input):\n",
    "\n",
    "    data = requests.get(\"https://api.imgflip.com/get_memes\")\n",
    "    if data.status_code == 200:\n",
    "        meme_data = data.json()['data']['memes']\n",
    "        images = [{'name': image['name'], 'url':image['url'],\n",
    "                   'id':image['id']} for image in meme_data]\n",
    "        if \"2\" in input or \"create meme\" in input:\n",
    "            return [(index, image['name']) for index, image in enumerate(images)]\n",
    "    else:\n",
    "        return f\"Invalid Response:{data.status_code} Code\""
   ]
  },
  {
   "cell_type": "code",
   "execution_count": 79,
   "metadata": {},
   "outputs": [
    {
     "data": {
      "text/plain": [
       "[(0, 'Drake Hotline Bling'),\n",
       " (1, 'Two Buttons'),\n",
       " (2, 'Distracted Boyfriend'),\n",
       " (3, 'Running Away Balloon'),\n",
       " (4, 'UNO Draw 25 Cards'),\n",
       " (5, 'Left Exit 12 Off Ramp'),\n",
       " (6, 'Buff Doge vs. Cheems'),\n",
       " (7, 'Change My Mind'),\n",
       " (8, \"Gru's Plan\"),\n",
       " (9, 'Bernie I Am Once Again Asking For Your Support'),\n",
       " (10, 'Batman Slapping Robin'),\n",
       " (11, 'Waiting Skeleton'),\n",
       " (12, 'Disaster Girl'),\n",
       " (13, 'Expanding Brain'),\n",
       " (14, 'Epic Handshake'),\n",
       " (15, 'Woman Yelling At Cat'),\n",
       " (16, 'Tuxedo Winnie The Pooh'),\n",
       " (17, 'Sad Pablo Escobar'),\n",
       " (18, 'Boardroom Meeting Suggestion'),\n",
       " (19, 'Monkey Puppet'),\n",
       " (20, 'Always Has Been'),\n",
       " (21, 'Blank Nut Button'),\n",
       " (22, 'X, X Everywhere'),\n",
       " (23, \"I Bet He's Thinking About Other Women\"),\n",
       " (24, 'Mocking Spongebob'),\n",
       " (25, 'Panik Kalm Panik'),\n",
       " (26, \"They're The Same Picture\"),\n",
       " (27, 'Hide the Pain Harold'),\n",
       " (28, 'Guy Holding Cardboard Sign'),\n",
       " (29, 'Bike Fall'),\n",
       " (30, 'Clown Applying Makeup'),\n",
       " (31, 'Is This A Pigeon'),\n",
       " (32, 'Inhaling Seagull'),\n",
       " (33, 'One Does Not Simply'),\n",
       " (34, 'This Is Fine'),\n",
       " (35, 'The Scroll Of Truth'),\n",
       " (36, 'Ancient Aliens'),\n",
       " (37, 'Success Kid'),\n",
       " (38, 'Roll Safe Think About It'),\n",
       " (39, \"This Is Where I'd Put My Trophy If I Had One\"),\n",
       " (40, 'Who Killed Hannibal'),\n",
       " (41, 'Surprised Pikachu'),\n",
       " (42, 'The Rock Driving'),\n",
       " (43, 'American Chopper Argument'),\n",
       " (44, 'Sleeping Shaq'),\n",
       " (45, 'Marked Safe From'),\n",
       " (46, 'Evil Kermit'),\n",
       " (47, \"Y'all Got Any More Of That\"),\n",
       " (48, 'Oprah You Get A'),\n",
       " (49, 'Laughing Leo'),\n",
       " (50, 'Unsettled Tom'),\n",
       " (51, 'Third World Skeptical Kid'),\n",
       " (52, 'Finding Neverland'),\n",
       " (53, 'Futurama Fry'),\n",
       " (54, 'Spongebob Ight Imma Head Out'),\n",
       " (55, 'Hard To Swallow Pills'),\n",
       " (56, 'Grandma Finds The Internet'),\n",
       " (57, 'Trump Bill Signing'),\n",
       " (58, 'Leonardo Dicaprio Cheers'),\n",
       " (59, 'Doge'),\n",
       " (60, 'That Would Be Great'),\n",
       " (61, 'Cute Cat'),\n",
       " (62, 'Star Wars Yoda'),\n",
       " (63, 'Look At Me'),\n",
       " (64, 'The Most Interesting Man In The World'),\n",
       " (65, \"But That's None Of My Business\"),\n",
       " (66, 'Imagination Spongebob'),\n",
       " (67, 'Mugatu So Hot Right Now'),\n",
       " (68, 'Scared Cat'),\n",
       " (69, 'Jack Sparrow Being Chased'),\n",
       " (70, 'Brace Yourselves X is Coming'),\n",
       " (71, 'See Nobody Cares'),\n",
       " (72, 'Bad Luck Brian'),\n",
       " (73, 'Afraid To Ask Andy'),\n",
       " (74, 'Be Like Bill'),\n",
       " (75, 'First World Problems'),\n",
       " (76, \"Don't You Squidward\"),\n",
       " (77, 'Too Damn High'),\n",
       " (78, 'Yo Dawg Heard You'),\n",
       " (79, \"I'm The Captain Now\"),\n",
       " (80, 'Who Would Win?'),\n",
       " (81, 'I Should Buy A Boat Cat'),\n",
       " (82, 'Car Salesman Slaps Roof Of Car'),\n",
       " (83, 'Third World Success Kid'),\n",
       " (84, 'Grumpy Cat'),\n",
       " (85, 'X All The Y'),\n",
       " (86, 'Squidward'),\n",
       " (87, 'Put It Somewhere Else Patrick'),\n",
       " (88, 'Shut Up And Take My Money Fry'),\n",
       " (89, 'Marvel Civil War 1'),\n",
       " (90, 'Success Kid Original'),\n",
       " (91, 'Uncle Sam'),\n",
       " (92, 'Y U No'),\n",
       " (93, 'Oprah You Get A Car Everybody Gets A Car'),\n",
       " (94, 'Face You Make Robert Downey Jr'),\n",
       " (95, 'Say it Again, Dexter'),\n",
       " (96, 'Laughing Men In Suits'),\n",
       " (97, 'Keep Calm And Carry On Red'),\n",
       " (98, 'Pepperidge Farm Remembers'),\n",
       " (99, \"I'll Just Wait Here\")]"
      ]
     },
     "execution_count": 79,
     "metadata": {},
     "output_type": "execute_result"
    }
   ],
   "source": [
    "create_meme(\"2\")"
   ]
  },
  {
   "cell_type": "code",
   "execution_count": 76,
   "metadata": {},
   "outputs": [
    {
     "data": {
      "text/plain": [
       "'[(0, \\'Drake Hotline Bling\\'), (1, \\'Two Buttons\\'), (2, \\'Distracted Boyfriend\\'), (3, \\'Running Away Balloon\\'), (4, \\'UNO Draw 25 Cards\\'), (5, \\'Left Exit 12 Off Ramp\\'), (6, \\'Buff Doge vs. Cheems\\'), (7, \\'Change My Mind\\'), (8, \"Gru\\'s Plan\"), (9, \\'Bernie I Am Once Again Asking For Your Support\\')]'"
      ]
     },
     "execution_count": 76,
     "metadata": {},
     "output_type": "execute_result"
    }
   ],
   "source": [
    "test"
   ]
  },
  {
   "cell_type": "code",
   "execution_count": 68,
   "metadata": {},
   "outputs": [],
   "source": [
    "test = str(create_meme(\"2\")[:10])"
   ]
  },
  {
   "cell_type": "code",
   "execution_count": 72,
   "metadata": {},
   "outputs": [
    {
     "data": {
      "text/plain": [
       "'[(0, \\'Drake Hotline Bling\\'), (1, \\'Two Buttons\\'), (2, \\'Distracted Boyfriend\\'), (3, \\'Running Away Balloon\\'), (4, \\'UNO Draw 25 Cards\\'), (5, \\'Left Exit 12 Off Ramp\\'), (6, \\'Buff Doge vs. Cheems\\'), (7, \\'Change My Mind\\'), (8, \"Gru\\'s Plan\"), (9, \\'Bernie I Am Once Again Asking For Your Support\\')]'"
      ]
     },
     "execution_count": 72,
     "metadata": {},
     "output_type": "execute_result"
    }
   ],
   "source": [
    "test.replace(\"['[']\", \"\")"
   ]
  },
  {
   "cell_type": "code",
   "execution_count": 67,
   "metadata": {},
   "outputs": [
    {
     "ename": "ConnectionError",
     "evalue": "HTTPSConnectionPool(host='api.imgflip.com', port=443): Max retries exceeded with url: /get_memes (Caused by NewConnectionError('<urllib3.connection.HTTPSConnection object at 0x1075dec20>: Failed to establish a new connection: [Errno 8] nodename nor servname provided, or not known'))",
     "output_type": "error",
     "traceback": [
      "\u001b[0;31m---------------------------------------------------------------------------\u001b[0m",
      "\u001b[0;31mgaierror\u001b[0m                                  Traceback (most recent call last)",
      "File \u001b[0;32m~/Documents/Essentialist Bots/mybotenv/lib/python3.10/site-packages/urllib3/connection.py:174\u001b[0m, in \u001b[0;36mHTTPConnection._new_conn\u001b[0;34m(self)\u001b[0m\n\u001b[1;32m    <a href='file:///Users/MusaML/Documents/Essentialist%20Bots/mybotenv/lib/python3.10/site-packages/urllib3/connection.py?line=172'>173</a>\u001b[0m \u001b[39mtry\u001b[39;00m:\n\u001b[0;32m--> <a href='file:///Users/MusaML/Documents/Essentialist%20Bots/mybotenv/lib/python3.10/site-packages/urllib3/connection.py?line=173'>174</a>\u001b[0m     conn \u001b[39m=\u001b[39m connection\u001b[39m.\u001b[39;49mcreate_connection(\n\u001b[1;32m    <a href='file:///Users/MusaML/Documents/Essentialist%20Bots/mybotenv/lib/python3.10/site-packages/urllib3/connection.py?line=174'>175</a>\u001b[0m         (\u001b[39mself\u001b[39;49m\u001b[39m.\u001b[39;49m_dns_host, \u001b[39mself\u001b[39;49m\u001b[39m.\u001b[39;49mport), \u001b[39mself\u001b[39;49m\u001b[39m.\u001b[39;49mtimeout, \u001b[39m*\u001b[39;49m\u001b[39m*\u001b[39;49mextra_kw\n\u001b[1;32m    <a href='file:///Users/MusaML/Documents/Essentialist%20Bots/mybotenv/lib/python3.10/site-packages/urllib3/connection.py?line=175'>176</a>\u001b[0m     )\n\u001b[1;32m    <a href='file:///Users/MusaML/Documents/Essentialist%20Bots/mybotenv/lib/python3.10/site-packages/urllib3/connection.py?line=177'>178</a>\u001b[0m \u001b[39mexcept\u001b[39;00m SocketTimeout:\n",
      "File \u001b[0;32m~/Documents/Essentialist Bots/mybotenv/lib/python3.10/site-packages/urllib3/util/connection.py:72\u001b[0m, in \u001b[0;36mcreate_connection\u001b[0;34m(address, timeout, source_address, socket_options)\u001b[0m\n\u001b[1;32m     <a href='file:///Users/MusaML/Documents/Essentialist%20Bots/mybotenv/lib/python3.10/site-packages/urllib3/util/connection.py?line=67'>68</a>\u001b[0m     \u001b[39mreturn\u001b[39;00m six\u001b[39m.\u001b[39mraise_from(\n\u001b[1;32m     <a href='file:///Users/MusaML/Documents/Essentialist%20Bots/mybotenv/lib/python3.10/site-packages/urllib3/util/connection.py?line=68'>69</a>\u001b[0m         LocationParseError(\u001b[39mu\u001b[39m\u001b[39m\"\u001b[39m\u001b[39m'\u001b[39m\u001b[39m%s\u001b[39;00m\u001b[39m'\u001b[39m\u001b[39m, label empty or too long\u001b[39m\u001b[39m\"\u001b[39m \u001b[39m%\u001b[39m host), \u001b[39mNone\u001b[39;00m\n\u001b[1;32m     <a href='file:///Users/MusaML/Documents/Essentialist%20Bots/mybotenv/lib/python3.10/site-packages/urllib3/util/connection.py?line=69'>70</a>\u001b[0m     )\n\u001b[0;32m---> <a href='file:///Users/MusaML/Documents/Essentialist%20Bots/mybotenv/lib/python3.10/site-packages/urllib3/util/connection.py?line=71'>72</a>\u001b[0m \u001b[39mfor\u001b[39;00m res \u001b[39min\u001b[39;00m socket\u001b[39m.\u001b[39;49mgetaddrinfo(host, port, family, socket\u001b[39m.\u001b[39;49mSOCK_STREAM):\n\u001b[1;32m     <a href='file:///Users/MusaML/Documents/Essentialist%20Bots/mybotenv/lib/python3.10/site-packages/urllib3/util/connection.py?line=72'>73</a>\u001b[0m     af, socktype, proto, canonname, sa \u001b[39m=\u001b[39m res\n",
      "File \u001b[0;32m/Library/Frameworks/Python.framework/Versions/3.10/lib/python3.10/socket.py:955\u001b[0m, in \u001b[0;36mgetaddrinfo\u001b[0;34m(host, port, family, type, proto, flags)\u001b[0m\n\u001b[1;32m    <a href='file:///Library/Frameworks/Python.framework/Versions/3.10/lib/python3.10/socket.py?line=953'>954</a>\u001b[0m addrlist \u001b[39m=\u001b[39m []\n\u001b[0;32m--> <a href='file:///Library/Frameworks/Python.framework/Versions/3.10/lib/python3.10/socket.py?line=954'>955</a>\u001b[0m \u001b[39mfor\u001b[39;00m res \u001b[39min\u001b[39;00m _socket\u001b[39m.\u001b[39;49mgetaddrinfo(host, port, family, \u001b[39mtype\u001b[39;49m, proto, flags):\n\u001b[1;32m    <a href='file:///Library/Frameworks/Python.framework/Versions/3.10/lib/python3.10/socket.py?line=955'>956</a>\u001b[0m     af, socktype, proto, canonname, sa \u001b[39m=\u001b[39m res\n",
      "\u001b[0;31mgaierror\u001b[0m: [Errno 8] nodename nor servname provided, or not known",
      "\nDuring handling of the above exception, another exception occurred:\n",
      "\u001b[0;31mNewConnectionError\u001b[0m                        Traceback (most recent call last)",
      "File \u001b[0;32m~/Documents/Essentialist Bots/mybotenv/lib/python3.10/site-packages/urllib3/connectionpool.py:703\u001b[0m, in \u001b[0;36mHTTPConnectionPool.urlopen\u001b[0;34m(self, method, url, body, headers, retries, redirect, assert_same_host, timeout, pool_timeout, release_conn, chunked, body_pos, **response_kw)\u001b[0m\n\u001b[1;32m    <a href='file:///Users/MusaML/Documents/Essentialist%20Bots/mybotenv/lib/python3.10/site-packages/urllib3/connectionpool.py?line=701'>702</a>\u001b[0m \u001b[39m# Make the request on the httplib connection object.\u001b[39;00m\n\u001b[0;32m--> <a href='file:///Users/MusaML/Documents/Essentialist%20Bots/mybotenv/lib/python3.10/site-packages/urllib3/connectionpool.py?line=702'>703</a>\u001b[0m httplib_response \u001b[39m=\u001b[39m \u001b[39mself\u001b[39;49m\u001b[39m.\u001b[39;49m_make_request(\n\u001b[1;32m    <a href='file:///Users/MusaML/Documents/Essentialist%20Bots/mybotenv/lib/python3.10/site-packages/urllib3/connectionpool.py?line=703'>704</a>\u001b[0m     conn,\n\u001b[1;32m    <a href='file:///Users/MusaML/Documents/Essentialist%20Bots/mybotenv/lib/python3.10/site-packages/urllib3/connectionpool.py?line=704'>705</a>\u001b[0m     method,\n\u001b[1;32m    <a href='file:///Users/MusaML/Documents/Essentialist%20Bots/mybotenv/lib/python3.10/site-packages/urllib3/connectionpool.py?line=705'>706</a>\u001b[0m     url,\n\u001b[1;32m    <a href='file:///Users/MusaML/Documents/Essentialist%20Bots/mybotenv/lib/python3.10/site-packages/urllib3/connectionpool.py?line=706'>707</a>\u001b[0m     timeout\u001b[39m=\u001b[39;49mtimeout_obj,\n\u001b[1;32m    <a href='file:///Users/MusaML/Documents/Essentialist%20Bots/mybotenv/lib/python3.10/site-packages/urllib3/connectionpool.py?line=707'>708</a>\u001b[0m     body\u001b[39m=\u001b[39;49mbody,\n\u001b[1;32m    <a href='file:///Users/MusaML/Documents/Essentialist%20Bots/mybotenv/lib/python3.10/site-packages/urllib3/connectionpool.py?line=708'>709</a>\u001b[0m     headers\u001b[39m=\u001b[39;49mheaders,\n\u001b[1;32m    <a href='file:///Users/MusaML/Documents/Essentialist%20Bots/mybotenv/lib/python3.10/site-packages/urllib3/connectionpool.py?line=709'>710</a>\u001b[0m     chunked\u001b[39m=\u001b[39;49mchunked,\n\u001b[1;32m    <a href='file:///Users/MusaML/Documents/Essentialist%20Bots/mybotenv/lib/python3.10/site-packages/urllib3/connectionpool.py?line=710'>711</a>\u001b[0m )\n\u001b[1;32m    <a href='file:///Users/MusaML/Documents/Essentialist%20Bots/mybotenv/lib/python3.10/site-packages/urllib3/connectionpool.py?line=712'>713</a>\u001b[0m \u001b[39m# If we're going to release the connection in ``finally:``, then\u001b[39;00m\n\u001b[1;32m    <a href='file:///Users/MusaML/Documents/Essentialist%20Bots/mybotenv/lib/python3.10/site-packages/urllib3/connectionpool.py?line=713'>714</a>\u001b[0m \u001b[39m# the response doesn't need to know about the connection. Otherwise\u001b[39;00m\n\u001b[1;32m    <a href='file:///Users/MusaML/Documents/Essentialist%20Bots/mybotenv/lib/python3.10/site-packages/urllib3/connectionpool.py?line=714'>715</a>\u001b[0m \u001b[39m# it will also try to release it and we'll have a double-release\u001b[39;00m\n\u001b[1;32m    <a href='file:///Users/MusaML/Documents/Essentialist%20Bots/mybotenv/lib/python3.10/site-packages/urllib3/connectionpool.py?line=715'>716</a>\u001b[0m \u001b[39m# mess.\u001b[39;00m\n",
      "File \u001b[0;32m~/Documents/Essentialist Bots/mybotenv/lib/python3.10/site-packages/urllib3/connectionpool.py:386\u001b[0m, in \u001b[0;36mHTTPConnectionPool._make_request\u001b[0;34m(self, conn, method, url, timeout, chunked, **httplib_request_kw)\u001b[0m\n\u001b[1;32m    <a href='file:///Users/MusaML/Documents/Essentialist%20Bots/mybotenv/lib/python3.10/site-packages/urllib3/connectionpool.py?line=384'>385</a>\u001b[0m \u001b[39mtry\u001b[39;00m:\n\u001b[0;32m--> <a href='file:///Users/MusaML/Documents/Essentialist%20Bots/mybotenv/lib/python3.10/site-packages/urllib3/connectionpool.py?line=385'>386</a>\u001b[0m     \u001b[39mself\u001b[39;49m\u001b[39m.\u001b[39;49m_validate_conn(conn)\n\u001b[1;32m    <a href='file:///Users/MusaML/Documents/Essentialist%20Bots/mybotenv/lib/python3.10/site-packages/urllib3/connectionpool.py?line=386'>387</a>\u001b[0m \u001b[39mexcept\u001b[39;00m (SocketTimeout, BaseSSLError) \u001b[39mas\u001b[39;00m e:\n\u001b[1;32m    <a href='file:///Users/MusaML/Documents/Essentialist%20Bots/mybotenv/lib/python3.10/site-packages/urllib3/connectionpool.py?line=387'>388</a>\u001b[0m     \u001b[39m# Py2 raises this as a BaseSSLError, Py3 raises it as socket timeout.\u001b[39;00m\n",
      "File \u001b[0;32m~/Documents/Essentialist Bots/mybotenv/lib/python3.10/site-packages/urllib3/connectionpool.py:1040\u001b[0m, in \u001b[0;36mHTTPSConnectionPool._validate_conn\u001b[0;34m(self, conn)\u001b[0m\n\u001b[1;32m   <a href='file:///Users/MusaML/Documents/Essentialist%20Bots/mybotenv/lib/python3.10/site-packages/urllib3/connectionpool.py?line=1038'>1039</a>\u001b[0m \u001b[39mif\u001b[39;00m \u001b[39mnot\u001b[39;00m \u001b[39mgetattr\u001b[39m(conn, \u001b[39m\"\u001b[39m\u001b[39msock\u001b[39m\u001b[39m\"\u001b[39m, \u001b[39mNone\u001b[39;00m):  \u001b[39m# AppEngine might not have  `.sock`\u001b[39;00m\n\u001b[0;32m-> <a href='file:///Users/MusaML/Documents/Essentialist%20Bots/mybotenv/lib/python3.10/site-packages/urllib3/connectionpool.py?line=1039'>1040</a>\u001b[0m     conn\u001b[39m.\u001b[39;49mconnect()\n\u001b[1;32m   <a href='file:///Users/MusaML/Documents/Essentialist%20Bots/mybotenv/lib/python3.10/site-packages/urllib3/connectionpool.py?line=1041'>1042</a>\u001b[0m \u001b[39mif\u001b[39;00m \u001b[39mnot\u001b[39;00m conn\u001b[39m.\u001b[39mis_verified:\n",
      "File \u001b[0;32m~/Documents/Essentialist Bots/mybotenv/lib/python3.10/site-packages/urllib3/connection.py:358\u001b[0m, in \u001b[0;36mHTTPSConnection.connect\u001b[0;34m(self)\u001b[0m\n\u001b[1;32m    <a href='file:///Users/MusaML/Documents/Essentialist%20Bots/mybotenv/lib/python3.10/site-packages/urllib3/connection.py?line=355'>356</a>\u001b[0m \u001b[39mdef\u001b[39;00m \u001b[39mconnect\u001b[39m(\u001b[39mself\u001b[39m):\n\u001b[1;32m    <a href='file:///Users/MusaML/Documents/Essentialist%20Bots/mybotenv/lib/python3.10/site-packages/urllib3/connection.py?line=356'>357</a>\u001b[0m     \u001b[39m# Add certificate verification\u001b[39;00m\n\u001b[0;32m--> <a href='file:///Users/MusaML/Documents/Essentialist%20Bots/mybotenv/lib/python3.10/site-packages/urllib3/connection.py?line=357'>358</a>\u001b[0m     conn \u001b[39m=\u001b[39m \u001b[39mself\u001b[39;49m\u001b[39m.\u001b[39;49m_new_conn()\n\u001b[1;32m    <a href='file:///Users/MusaML/Documents/Essentialist%20Bots/mybotenv/lib/python3.10/site-packages/urllib3/connection.py?line=358'>359</a>\u001b[0m     hostname \u001b[39m=\u001b[39m \u001b[39mself\u001b[39m\u001b[39m.\u001b[39mhost\n",
      "File \u001b[0;32m~/Documents/Essentialist Bots/mybotenv/lib/python3.10/site-packages/urllib3/connection.py:186\u001b[0m, in \u001b[0;36mHTTPConnection._new_conn\u001b[0;34m(self)\u001b[0m\n\u001b[1;32m    <a href='file:///Users/MusaML/Documents/Essentialist%20Bots/mybotenv/lib/python3.10/site-packages/urllib3/connection.py?line=184'>185</a>\u001b[0m \u001b[39mexcept\u001b[39;00m SocketError \u001b[39mas\u001b[39;00m e:\n\u001b[0;32m--> <a href='file:///Users/MusaML/Documents/Essentialist%20Bots/mybotenv/lib/python3.10/site-packages/urllib3/connection.py?line=185'>186</a>\u001b[0m     \u001b[39mraise\u001b[39;00m NewConnectionError(\n\u001b[1;32m    <a href='file:///Users/MusaML/Documents/Essentialist%20Bots/mybotenv/lib/python3.10/site-packages/urllib3/connection.py?line=186'>187</a>\u001b[0m         \u001b[39mself\u001b[39m, \u001b[39m\"\u001b[39m\u001b[39mFailed to establish a new connection: \u001b[39m\u001b[39m%s\u001b[39;00m\u001b[39m\"\u001b[39m \u001b[39m%\u001b[39m e\n\u001b[1;32m    <a href='file:///Users/MusaML/Documents/Essentialist%20Bots/mybotenv/lib/python3.10/site-packages/urllib3/connection.py?line=187'>188</a>\u001b[0m     )\n\u001b[1;32m    <a href='file:///Users/MusaML/Documents/Essentialist%20Bots/mybotenv/lib/python3.10/site-packages/urllib3/connection.py?line=189'>190</a>\u001b[0m \u001b[39mreturn\u001b[39;00m conn\n",
      "\u001b[0;31mNewConnectionError\u001b[0m: <urllib3.connection.HTTPSConnection object at 0x1075dec20>: Failed to establish a new connection: [Errno 8] nodename nor servname provided, or not known",
      "\nDuring handling of the above exception, another exception occurred:\n",
      "\u001b[0;31mMaxRetryError\u001b[0m                             Traceback (most recent call last)",
      "File \u001b[0;32m~/Documents/Essentialist Bots/mybotenv/lib/python3.10/site-packages/requests/adapters.py:440\u001b[0m, in \u001b[0;36mHTTPAdapter.send\u001b[0;34m(self, request, stream, timeout, verify, cert, proxies)\u001b[0m\n\u001b[1;32m    <a href='file:///Users/MusaML/Documents/Essentialist%20Bots/mybotenv/lib/python3.10/site-packages/requests/adapters.py?line=438'>439</a>\u001b[0m \u001b[39mif\u001b[39;00m \u001b[39mnot\u001b[39;00m chunked:\n\u001b[0;32m--> <a href='file:///Users/MusaML/Documents/Essentialist%20Bots/mybotenv/lib/python3.10/site-packages/requests/adapters.py?line=439'>440</a>\u001b[0m     resp \u001b[39m=\u001b[39m conn\u001b[39m.\u001b[39;49murlopen(\n\u001b[1;32m    <a href='file:///Users/MusaML/Documents/Essentialist%20Bots/mybotenv/lib/python3.10/site-packages/requests/adapters.py?line=440'>441</a>\u001b[0m         method\u001b[39m=\u001b[39;49mrequest\u001b[39m.\u001b[39;49mmethod,\n\u001b[1;32m    <a href='file:///Users/MusaML/Documents/Essentialist%20Bots/mybotenv/lib/python3.10/site-packages/requests/adapters.py?line=441'>442</a>\u001b[0m         url\u001b[39m=\u001b[39;49murl,\n\u001b[1;32m    <a href='file:///Users/MusaML/Documents/Essentialist%20Bots/mybotenv/lib/python3.10/site-packages/requests/adapters.py?line=442'>443</a>\u001b[0m         body\u001b[39m=\u001b[39;49mrequest\u001b[39m.\u001b[39;49mbody,\n\u001b[1;32m    <a href='file:///Users/MusaML/Documents/Essentialist%20Bots/mybotenv/lib/python3.10/site-packages/requests/adapters.py?line=443'>444</a>\u001b[0m         headers\u001b[39m=\u001b[39;49mrequest\u001b[39m.\u001b[39;49mheaders,\n\u001b[1;32m    <a href='file:///Users/MusaML/Documents/Essentialist%20Bots/mybotenv/lib/python3.10/site-packages/requests/adapters.py?line=444'>445</a>\u001b[0m         redirect\u001b[39m=\u001b[39;49m\u001b[39mFalse\u001b[39;49;00m,\n\u001b[1;32m    <a href='file:///Users/MusaML/Documents/Essentialist%20Bots/mybotenv/lib/python3.10/site-packages/requests/adapters.py?line=445'>446</a>\u001b[0m         assert_same_host\u001b[39m=\u001b[39;49m\u001b[39mFalse\u001b[39;49;00m,\n\u001b[1;32m    <a href='file:///Users/MusaML/Documents/Essentialist%20Bots/mybotenv/lib/python3.10/site-packages/requests/adapters.py?line=446'>447</a>\u001b[0m         preload_content\u001b[39m=\u001b[39;49m\u001b[39mFalse\u001b[39;49;00m,\n\u001b[1;32m    <a href='file:///Users/MusaML/Documents/Essentialist%20Bots/mybotenv/lib/python3.10/site-packages/requests/adapters.py?line=447'>448</a>\u001b[0m         decode_content\u001b[39m=\u001b[39;49m\u001b[39mFalse\u001b[39;49;00m,\n\u001b[1;32m    <a href='file:///Users/MusaML/Documents/Essentialist%20Bots/mybotenv/lib/python3.10/site-packages/requests/adapters.py?line=448'>449</a>\u001b[0m         retries\u001b[39m=\u001b[39;49m\u001b[39mself\u001b[39;49m\u001b[39m.\u001b[39;49mmax_retries,\n\u001b[1;32m    <a href='file:///Users/MusaML/Documents/Essentialist%20Bots/mybotenv/lib/python3.10/site-packages/requests/adapters.py?line=449'>450</a>\u001b[0m         timeout\u001b[39m=\u001b[39;49mtimeout\n\u001b[1;32m    <a href='file:///Users/MusaML/Documents/Essentialist%20Bots/mybotenv/lib/python3.10/site-packages/requests/adapters.py?line=450'>451</a>\u001b[0m     )\n\u001b[1;32m    <a href='file:///Users/MusaML/Documents/Essentialist%20Bots/mybotenv/lib/python3.10/site-packages/requests/adapters.py?line=452'>453</a>\u001b[0m \u001b[39m# Send the request.\u001b[39;00m\n\u001b[1;32m    <a href='file:///Users/MusaML/Documents/Essentialist%20Bots/mybotenv/lib/python3.10/site-packages/requests/adapters.py?line=453'>454</a>\u001b[0m \u001b[39melse\u001b[39;00m:\n",
      "File \u001b[0;32m~/Documents/Essentialist Bots/mybotenv/lib/python3.10/site-packages/urllib3/connectionpool.py:785\u001b[0m, in \u001b[0;36mHTTPConnectionPool.urlopen\u001b[0;34m(self, method, url, body, headers, retries, redirect, assert_same_host, timeout, pool_timeout, release_conn, chunked, body_pos, **response_kw)\u001b[0m\n\u001b[1;32m    <a href='file:///Users/MusaML/Documents/Essentialist%20Bots/mybotenv/lib/python3.10/site-packages/urllib3/connectionpool.py?line=782'>783</a>\u001b[0m     e \u001b[39m=\u001b[39m ProtocolError(\u001b[39m\"\u001b[39m\u001b[39mConnection aborted.\u001b[39m\u001b[39m\"\u001b[39m, e)\n\u001b[0;32m--> <a href='file:///Users/MusaML/Documents/Essentialist%20Bots/mybotenv/lib/python3.10/site-packages/urllib3/connectionpool.py?line=784'>785</a>\u001b[0m retries \u001b[39m=\u001b[39m retries\u001b[39m.\u001b[39;49mincrement(\n\u001b[1;32m    <a href='file:///Users/MusaML/Documents/Essentialist%20Bots/mybotenv/lib/python3.10/site-packages/urllib3/connectionpool.py?line=785'>786</a>\u001b[0m     method, url, error\u001b[39m=\u001b[39;49me, _pool\u001b[39m=\u001b[39;49m\u001b[39mself\u001b[39;49m, _stacktrace\u001b[39m=\u001b[39;49msys\u001b[39m.\u001b[39;49mexc_info()[\u001b[39m2\u001b[39;49m]\n\u001b[1;32m    <a href='file:///Users/MusaML/Documents/Essentialist%20Bots/mybotenv/lib/python3.10/site-packages/urllib3/connectionpool.py?line=786'>787</a>\u001b[0m )\n\u001b[1;32m    <a href='file:///Users/MusaML/Documents/Essentialist%20Bots/mybotenv/lib/python3.10/site-packages/urllib3/connectionpool.py?line=787'>788</a>\u001b[0m retries\u001b[39m.\u001b[39msleep()\n",
      "File \u001b[0;32m~/Documents/Essentialist Bots/mybotenv/lib/python3.10/site-packages/urllib3/util/retry.py:592\u001b[0m, in \u001b[0;36mRetry.increment\u001b[0;34m(self, method, url, response, error, _pool, _stacktrace)\u001b[0m\n\u001b[1;32m    <a href='file:///Users/MusaML/Documents/Essentialist%20Bots/mybotenv/lib/python3.10/site-packages/urllib3/util/retry.py?line=590'>591</a>\u001b[0m \u001b[39mif\u001b[39;00m new_retry\u001b[39m.\u001b[39mis_exhausted():\n\u001b[0;32m--> <a href='file:///Users/MusaML/Documents/Essentialist%20Bots/mybotenv/lib/python3.10/site-packages/urllib3/util/retry.py?line=591'>592</a>\u001b[0m     \u001b[39mraise\u001b[39;00m MaxRetryError(_pool, url, error \u001b[39mor\u001b[39;00m ResponseError(cause))\n\u001b[1;32m    <a href='file:///Users/MusaML/Documents/Essentialist%20Bots/mybotenv/lib/python3.10/site-packages/urllib3/util/retry.py?line=593'>594</a>\u001b[0m log\u001b[39m.\u001b[39mdebug(\u001b[39m\"\u001b[39m\u001b[39mIncremented Retry for (url=\u001b[39m\u001b[39m'\u001b[39m\u001b[39m%s\u001b[39;00m\u001b[39m'\u001b[39m\u001b[39m): \u001b[39m\u001b[39m%r\u001b[39;00m\u001b[39m\"\u001b[39m, url, new_retry)\n",
      "\u001b[0;31mMaxRetryError\u001b[0m: HTTPSConnectionPool(host='api.imgflip.com', port=443): Max retries exceeded with url: /get_memes (Caused by NewConnectionError('<urllib3.connection.HTTPSConnection object at 0x1075dec20>: Failed to establish a new connection: [Errno 8] nodename nor servname provided, or not known'))",
      "\nDuring handling of the above exception, another exception occurred:\n",
      "\u001b[0;31mConnectionError\u001b[0m                           Traceback (most recent call last)",
      "\u001b[1;32m/Users/MusaML/Documents/Essentialist Bots/whatsapp-bot/testing.ipynb Cell 40'\u001b[0m in \u001b[0;36m<cell line: 1>\u001b[0;34m()\u001b[0m\n\u001b[0;32m----> <a href='vscode-notebook-cell:/Users/MusaML/Documents/Essentialist%20Bots/whatsapp-bot/testing.ipynb#ch0000039?line=0'>1</a>\u001b[0m \u001b[39mfor\u001b[39;00m i \u001b[39min\u001b[39;00m create_meme(\u001b[39m\"\u001b[39;49m\u001b[39m2\u001b[39;49m\u001b[39m\"\u001b[39;49m):\n\u001b[1;32m      <a href='vscode-notebook-cell:/Users/MusaML/Documents/Essentialist%20Bots/whatsapp-bot/testing.ipynb#ch0000039?line=1'>2</a>\u001b[0m     \u001b[39mprint\u001b[39m(i)\n",
      "\u001b[1;32m/Users/MusaML/Documents/Essentialist Bots/whatsapp-bot/testing.ipynb Cell 38'\u001b[0m in \u001b[0;36mcreate_meme\u001b[0;34m(input)\u001b[0m\n\u001b[1;32m      <a href='vscode-notebook-cell:/Users/MusaML/Documents/Essentialist%20Bots/whatsapp-bot/testing.ipynb#ch0000036?line=0'>1</a>\u001b[0m \u001b[39mdef\u001b[39;00m \u001b[39mcreate_meme\u001b[39m(\u001b[39minput\u001b[39m):\n\u001b[0;32m----> <a href='vscode-notebook-cell:/Users/MusaML/Documents/Essentialist%20Bots/whatsapp-bot/testing.ipynb#ch0000036?line=2'>3</a>\u001b[0m     data \u001b[39m=\u001b[39m requests\u001b[39m.\u001b[39;49mget(\u001b[39m\"\u001b[39;49m\u001b[39mhttps://api.imgflip.com/get_memes\u001b[39;49m\u001b[39m\"\u001b[39;49m)\n\u001b[1;32m      <a href='vscode-notebook-cell:/Users/MusaML/Documents/Essentialist%20Bots/whatsapp-bot/testing.ipynb#ch0000036?line=3'>4</a>\u001b[0m     \u001b[39mif\u001b[39;00m data\u001b[39m.\u001b[39mstatus_code \u001b[39m==\u001b[39m \u001b[39m200\u001b[39m:\n\u001b[1;32m      <a href='vscode-notebook-cell:/Users/MusaML/Documents/Essentialist%20Bots/whatsapp-bot/testing.ipynb#ch0000036?line=4'>5</a>\u001b[0m         meme_data \u001b[39m=\u001b[39m data\u001b[39m.\u001b[39mjson()[\u001b[39m'\u001b[39m\u001b[39mdata\u001b[39m\u001b[39m'\u001b[39m][\u001b[39m'\u001b[39m\u001b[39mmemes\u001b[39m\u001b[39m'\u001b[39m]\n",
      "File \u001b[0;32m~/Documents/Essentialist Bots/mybotenv/lib/python3.10/site-packages/requests/api.py:75\u001b[0m, in \u001b[0;36mget\u001b[0;34m(url, params, **kwargs)\u001b[0m\n\u001b[1;32m     <a href='file:///Users/MusaML/Documents/Essentialist%20Bots/mybotenv/lib/python3.10/site-packages/requests/api.py?line=63'>64</a>\u001b[0m \u001b[39mdef\u001b[39;00m \u001b[39mget\u001b[39m(url, params\u001b[39m=\u001b[39m\u001b[39mNone\u001b[39;00m, \u001b[39m*\u001b[39m\u001b[39m*\u001b[39mkwargs):\n\u001b[1;32m     <a href='file:///Users/MusaML/Documents/Essentialist%20Bots/mybotenv/lib/python3.10/site-packages/requests/api.py?line=64'>65</a>\u001b[0m     \u001b[39mr\u001b[39m\u001b[39m\"\"\"Sends a GET request.\u001b[39;00m\n\u001b[1;32m     <a href='file:///Users/MusaML/Documents/Essentialist%20Bots/mybotenv/lib/python3.10/site-packages/requests/api.py?line=65'>66</a>\u001b[0m \n\u001b[1;32m     <a href='file:///Users/MusaML/Documents/Essentialist%20Bots/mybotenv/lib/python3.10/site-packages/requests/api.py?line=66'>67</a>\u001b[0m \u001b[39m    :param url: URL for the new :class:`Request` object.\u001b[39;00m\n\u001b[0;32m   (...)\u001b[0m\n\u001b[1;32m     <a href='file:///Users/MusaML/Documents/Essentialist%20Bots/mybotenv/lib/python3.10/site-packages/requests/api.py?line=71'>72</a>\u001b[0m \u001b[39m    :rtype: requests.Response\u001b[39;00m\n\u001b[1;32m     <a href='file:///Users/MusaML/Documents/Essentialist%20Bots/mybotenv/lib/python3.10/site-packages/requests/api.py?line=72'>73</a>\u001b[0m \u001b[39m    \"\"\"\u001b[39;00m\n\u001b[0;32m---> <a href='file:///Users/MusaML/Documents/Essentialist%20Bots/mybotenv/lib/python3.10/site-packages/requests/api.py?line=74'>75</a>\u001b[0m     \u001b[39mreturn\u001b[39;00m request(\u001b[39m'\u001b[39;49m\u001b[39mget\u001b[39;49m\u001b[39m'\u001b[39;49m, url, params\u001b[39m=\u001b[39;49mparams, \u001b[39m*\u001b[39;49m\u001b[39m*\u001b[39;49mkwargs)\n",
      "File \u001b[0;32m~/Documents/Essentialist Bots/mybotenv/lib/python3.10/site-packages/requests/api.py:61\u001b[0m, in \u001b[0;36mrequest\u001b[0;34m(method, url, **kwargs)\u001b[0m\n\u001b[1;32m     <a href='file:///Users/MusaML/Documents/Essentialist%20Bots/mybotenv/lib/python3.10/site-packages/requests/api.py?line=56'>57</a>\u001b[0m \u001b[39m# By using the 'with' statement we are sure the session is closed, thus we\u001b[39;00m\n\u001b[1;32m     <a href='file:///Users/MusaML/Documents/Essentialist%20Bots/mybotenv/lib/python3.10/site-packages/requests/api.py?line=57'>58</a>\u001b[0m \u001b[39m# avoid leaving sockets open which can trigger a ResourceWarning in some\u001b[39;00m\n\u001b[1;32m     <a href='file:///Users/MusaML/Documents/Essentialist%20Bots/mybotenv/lib/python3.10/site-packages/requests/api.py?line=58'>59</a>\u001b[0m \u001b[39m# cases, and look like a memory leak in others.\u001b[39;00m\n\u001b[1;32m     <a href='file:///Users/MusaML/Documents/Essentialist%20Bots/mybotenv/lib/python3.10/site-packages/requests/api.py?line=59'>60</a>\u001b[0m \u001b[39mwith\u001b[39;00m sessions\u001b[39m.\u001b[39mSession() \u001b[39mas\u001b[39;00m session:\n\u001b[0;32m---> <a href='file:///Users/MusaML/Documents/Essentialist%20Bots/mybotenv/lib/python3.10/site-packages/requests/api.py?line=60'>61</a>\u001b[0m     \u001b[39mreturn\u001b[39;00m session\u001b[39m.\u001b[39;49mrequest(method\u001b[39m=\u001b[39;49mmethod, url\u001b[39m=\u001b[39;49murl, \u001b[39m*\u001b[39;49m\u001b[39m*\u001b[39;49mkwargs)\n",
      "File \u001b[0;32m~/Documents/Essentialist Bots/mybotenv/lib/python3.10/site-packages/requests/sessions.py:529\u001b[0m, in \u001b[0;36mSession.request\u001b[0;34m(self, method, url, params, data, headers, cookies, files, auth, timeout, allow_redirects, proxies, hooks, stream, verify, cert, json)\u001b[0m\n\u001b[1;32m    <a href='file:///Users/MusaML/Documents/Essentialist%20Bots/mybotenv/lib/python3.10/site-packages/requests/sessions.py?line=523'>524</a>\u001b[0m send_kwargs \u001b[39m=\u001b[39m {\n\u001b[1;32m    <a href='file:///Users/MusaML/Documents/Essentialist%20Bots/mybotenv/lib/python3.10/site-packages/requests/sessions.py?line=524'>525</a>\u001b[0m     \u001b[39m'\u001b[39m\u001b[39mtimeout\u001b[39m\u001b[39m'\u001b[39m: timeout,\n\u001b[1;32m    <a href='file:///Users/MusaML/Documents/Essentialist%20Bots/mybotenv/lib/python3.10/site-packages/requests/sessions.py?line=525'>526</a>\u001b[0m     \u001b[39m'\u001b[39m\u001b[39mallow_redirects\u001b[39m\u001b[39m'\u001b[39m: allow_redirects,\n\u001b[1;32m    <a href='file:///Users/MusaML/Documents/Essentialist%20Bots/mybotenv/lib/python3.10/site-packages/requests/sessions.py?line=526'>527</a>\u001b[0m }\n\u001b[1;32m    <a href='file:///Users/MusaML/Documents/Essentialist%20Bots/mybotenv/lib/python3.10/site-packages/requests/sessions.py?line=527'>528</a>\u001b[0m send_kwargs\u001b[39m.\u001b[39mupdate(settings)\n\u001b[0;32m--> <a href='file:///Users/MusaML/Documents/Essentialist%20Bots/mybotenv/lib/python3.10/site-packages/requests/sessions.py?line=528'>529</a>\u001b[0m resp \u001b[39m=\u001b[39m \u001b[39mself\u001b[39;49m\u001b[39m.\u001b[39;49msend(prep, \u001b[39m*\u001b[39;49m\u001b[39m*\u001b[39;49msend_kwargs)\n\u001b[1;32m    <a href='file:///Users/MusaML/Documents/Essentialist%20Bots/mybotenv/lib/python3.10/site-packages/requests/sessions.py?line=530'>531</a>\u001b[0m \u001b[39mreturn\u001b[39;00m resp\n",
      "File \u001b[0;32m~/Documents/Essentialist Bots/mybotenv/lib/python3.10/site-packages/requests/sessions.py:645\u001b[0m, in \u001b[0;36mSession.send\u001b[0;34m(self, request, **kwargs)\u001b[0m\n\u001b[1;32m    <a href='file:///Users/MusaML/Documents/Essentialist%20Bots/mybotenv/lib/python3.10/site-packages/requests/sessions.py?line=641'>642</a>\u001b[0m start \u001b[39m=\u001b[39m preferred_clock()\n\u001b[1;32m    <a href='file:///Users/MusaML/Documents/Essentialist%20Bots/mybotenv/lib/python3.10/site-packages/requests/sessions.py?line=643'>644</a>\u001b[0m \u001b[39m# Send the request\u001b[39;00m\n\u001b[0;32m--> <a href='file:///Users/MusaML/Documents/Essentialist%20Bots/mybotenv/lib/python3.10/site-packages/requests/sessions.py?line=644'>645</a>\u001b[0m r \u001b[39m=\u001b[39m adapter\u001b[39m.\u001b[39;49msend(request, \u001b[39m*\u001b[39;49m\u001b[39m*\u001b[39;49mkwargs)\n\u001b[1;32m    <a href='file:///Users/MusaML/Documents/Essentialist%20Bots/mybotenv/lib/python3.10/site-packages/requests/sessions.py?line=646'>647</a>\u001b[0m \u001b[39m# Total elapsed time of the request (approximately)\u001b[39;00m\n\u001b[1;32m    <a href='file:///Users/MusaML/Documents/Essentialist%20Bots/mybotenv/lib/python3.10/site-packages/requests/sessions.py?line=647'>648</a>\u001b[0m elapsed \u001b[39m=\u001b[39m preferred_clock() \u001b[39m-\u001b[39m start\n",
      "File \u001b[0;32m~/Documents/Essentialist Bots/mybotenv/lib/python3.10/site-packages/requests/adapters.py:519\u001b[0m, in \u001b[0;36mHTTPAdapter.send\u001b[0;34m(self, request, stream, timeout, verify, cert, proxies)\u001b[0m\n\u001b[1;32m    <a href='file:///Users/MusaML/Documents/Essentialist%20Bots/mybotenv/lib/python3.10/site-packages/requests/adapters.py?line=514'>515</a>\u001b[0m     \u001b[39mif\u001b[39;00m \u001b[39misinstance\u001b[39m(e\u001b[39m.\u001b[39mreason, _SSLError):\n\u001b[1;32m    <a href='file:///Users/MusaML/Documents/Essentialist%20Bots/mybotenv/lib/python3.10/site-packages/requests/adapters.py?line=515'>516</a>\u001b[0m         \u001b[39m# This branch is for urllib3 v1.22 and later.\u001b[39;00m\n\u001b[1;32m    <a href='file:///Users/MusaML/Documents/Essentialist%20Bots/mybotenv/lib/python3.10/site-packages/requests/adapters.py?line=516'>517</a>\u001b[0m         \u001b[39mraise\u001b[39;00m SSLError(e, request\u001b[39m=\u001b[39mrequest)\n\u001b[0;32m--> <a href='file:///Users/MusaML/Documents/Essentialist%20Bots/mybotenv/lib/python3.10/site-packages/requests/adapters.py?line=518'>519</a>\u001b[0m     \u001b[39mraise\u001b[39;00m \u001b[39mConnectionError\u001b[39;00m(e, request\u001b[39m=\u001b[39mrequest)\n\u001b[1;32m    <a href='file:///Users/MusaML/Documents/Essentialist%20Bots/mybotenv/lib/python3.10/site-packages/requests/adapters.py?line=520'>521</a>\u001b[0m \u001b[39mexcept\u001b[39;00m ClosedPoolError \u001b[39mas\u001b[39;00m e:\n\u001b[1;32m    <a href='file:///Users/MusaML/Documents/Essentialist%20Bots/mybotenv/lib/python3.10/site-packages/requests/adapters.py?line=521'>522</a>\u001b[0m     \u001b[39mraise\u001b[39;00m \u001b[39mConnectionError\u001b[39;00m(e, request\u001b[39m=\u001b[39mrequest)\n",
      "\u001b[0;31mConnectionError\u001b[0m: HTTPSConnectionPool(host='api.imgflip.com', port=443): Max retries exceeded with url: /get_memes (Caused by NewConnectionError('<urllib3.connection.HTTPSConnection object at 0x1075dec20>: Failed to establish a new connection: [Errno 8] nodename nor servname provided, or not known'))"
     ]
    }
   ],
   "source": [
    "for i in create_meme(\"2\")[]:\n",
    "    print(i)"
   ]
  },
  {
   "cell_type": "code",
   "execution_count": null,
   "metadata": {},
   "outputs": [],
   "source": []
  }
 ],
 "metadata": {
  "interpreter": {
   "hash": "84a20e74315434dc94d267101c0e24a799fe29422b79d55dd87bb3548fa4b26c"
  },
  "kernelspec": {
   "display_name": "Python 3.10.0 ('mybotenv': venv)",
   "language": "python",
   "name": "python3"
  },
  "language_info": {
   "codemirror_mode": {
    "name": "ipython",
    "version": 3
   },
   "file_extension": ".py",
   "mimetype": "text/x-python",
   "name": "python",
   "nbconvert_exporter": "python",
   "pygments_lexer": "ipython3",
   "version": "3.10.0"
  },
  "orig_nbformat": 4
 },
 "nbformat": 4,
 "nbformat_minor": 2
}
