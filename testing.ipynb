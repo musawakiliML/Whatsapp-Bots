{
 "cells": [
  {
   "cell_type": "markdown",
   "metadata": {},
   "source": [
    "This Notebook for testing and getting information required from APIs i used for the bot"
   ]
  },
  {
   "cell_type": "code",
   "execution_count": 1,
   "metadata": {},
   "outputs": [],
   "source": [
    "import requests"
   ]
  },
  {
   "cell_type": "code",
   "execution_count": 2,
   "metadata": {},
   "outputs": [],
   "source": [
    "response_joke = requests.get(\"https://some-random-api.ml/joke\")"
   ]
  },
  {
   "cell_type": "code",
   "execution_count": 4,
   "metadata": {},
   "outputs": [
    {
     "data": {
      "text/plain": [
       "200"
      ]
     },
     "execution_count": 4,
     "metadata": {},
     "output_type": "execute_result"
    }
   ],
   "source": [
    "response_joke.status_code"
   ]
  },
  {
   "cell_type": "code",
   "execution_count": 5,
   "metadata": {},
   "outputs": [],
   "source": [
    "joke = response_joke.json()"
   ]
  },
  {
   "cell_type": "code",
   "execution_count": 7,
   "metadata": {},
   "outputs": [
    {
     "data": {
      "text/plain": [
       "'What do you call cheese that is not yours? Nacho Cheese.'"
      ]
     },
     "execution_count": 7,
     "metadata": {},
     "output_type": "execute_result"
    }
   ],
   "source": [
    "joke['joke']"
   ]
  },
  {
   "cell_type": "code",
   "execution_count": 9,
   "metadata": {},
   "outputs": [],
   "source": [
    "response_quote = requests.get(\"https://zenquotes.io/api/today/ff5e73b15a05ca51951b758bd7943ce803d71772\")"
   ]
  },
  {
   "cell_type": "code",
   "execution_count": 10,
   "metadata": {},
   "outputs": [
    {
     "data": {
      "text/plain": [
       "200"
      ]
     },
     "execution_count": 10,
     "metadata": {},
     "output_type": "execute_result"
    }
   ],
   "source": [
    "response_quote.status_code"
   ]
  },
  {
   "cell_type": "code",
   "execution_count": 14,
   "metadata": {},
   "outputs": [
    {
     "data": {
      "text/plain": [
       "'Seungsahn'"
      ]
     },
     "execution_count": 14,
     "metadata": {},
     "output_type": "execute_result"
    }
   ],
   "source": [
    "response_quote.json()[0]['a']"
   ]
  },
  {
   "cell_type": "code",
   "execution_count": 18,
   "metadata": {},
   "outputs": [],
   "source": [
    "request_dog = requests.get(\"https://dog.ceo/api/breeds/image/random\")"
   ]
  },
  {
   "cell_type": "code",
   "execution_count": 19,
   "metadata": {},
   "outputs": [
    {
     "data": {
      "text/plain": [
       "200"
      ]
     },
     "execution_count": 19,
     "metadata": {},
     "output_type": "execute_result"
    }
   ],
   "source": [
    "request_dog.status_code"
   ]
  },
  {
   "cell_type": "code",
   "execution_count": 25,
   "metadata": {},
   "outputs": [
    {
     "data": {
      "text/plain": [
       "'https://images.dog.ceo/breeds/lhasa/n02098413_20830.jpg'"
      ]
     },
     "execution_count": 25,
     "metadata": {},
     "output_type": "execute_result"
    }
   ],
   "source": [
    "request_dog.json()['message']"
   ]
  },
  {
   "cell_type": "code",
   "execution_count": 21,
   "metadata": {},
   "outputs": [],
   "source": [
    "request_cat = requests.get(\"https://cataas.com/cat/cute\")"
   ]
  },
  {
   "cell_type": "code",
   "execution_count": 22,
   "metadata": {},
   "outputs": [
    {
     "data": {
      "text/plain": [
       "200"
      ]
     },
     "execution_count": 22,
     "metadata": {},
     "output_type": "execute_result"
    }
   ],
   "source": [
    "request_cat.status_code"
   ]
  },
  {
   "cell_type": "code",
   "execution_count": 30,
   "metadata": {},
   "outputs": [
    {
     "data": {
      "text/plain": [
       "'https://cataas.com/cat/cute'"
      ]
     },
     "execution_count": 30,
     "metadata": {},
     "output_type": "execute_result"
    }
   ],
   "source": [
    "request_cat.url"
   ]
  },
  {
   "cell_type": "code",
   "execution_count": 31,
   "metadata": {},
   "outputs": [],
   "source": [
    "req_q = requests.get(\"https://zenquotes.io/api/quotes/author/abraham-lincoln/ff5e73b15a05ca51951b758bd7943ce803d71772\")"
   ]
  },
  {
   "cell_type": "code",
   "execution_count": 32,
   "metadata": {},
   "outputs": [
    {
     "data": {
      "text/plain": [
       "200"
      ]
     },
     "execution_count": 32,
     "metadata": {},
     "output_type": "execute_result"
    }
   ],
   "source": [
    "req_q.status_code"
   ]
  },
  {
   "cell_type": "code",
   "execution_count": 33,
   "metadata": {},
   "outputs": [
    {
     "data": {
      "text/plain": [
       "[{'q': 'Unauthorized API request, key required. Visit zenquotes.io for documentation.',\n",
       "  'a': 'zenquotes.io',\n",
       "  'h': '<blockquote>Unauthorized API request, key required. Visit zenquotes.io for documentation.</blockquote>'}]"
      ]
     },
     "execution_count": 33,
     "metadata": {},
     "output_type": "execute_result"
    }
   ],
   "source": [
    "req_q.json()"
   ]
  },
  {
   "cell_type": "code",
   "execution_count": 2,
   "metadata": {},
   "outputs": [
    {
     "name": "stdout",
     "output_type": "stream",
     "text": [
      "/Users/MusaML/Documents/Essentialist Bots/mybotenv/bin/pip3: line 2: /Users/MusaML/Documents/Telegram Bots/mybotenv/bin/python3: No such file or directory\n",
      "/Users/MusaML/Documents/Essentialist Bots/mybotenv/bin/pip3: line 2: exec: /Users/MusaML/Documents/Telegram Bots/mybotenv/bin/python3: cannot execute: No such file or directory\n"
     ]
    }
   ],
   "source": [
    "!pip3 list"
   ]
  },
  {
   "cell_type": "code",
   "execution_count": 4,
   "metadata": {},
   "outputs": [],
   "source": [
    "import requests\n",
    "import urllib\n",
    "\n",
    "username = \"MusaAdamuWakili\"\n",
    "password = \"meme_bot_1234\"\n",
    "\n",
    "user_agent = \"Mozilla/5.0 (Macintosh; Intel Mac OS X 10_15_7) AppleWebKit/537.36 (KHTML, like Gecko) Chrome/100.0.4896.75 Safari/537.36\"\n"
   ]
  },
  {
   "cell_type": "code",
   "execution_count": 36,
   "metadata": {},
   "outputs": [],
   "source": [
    "data = requests.get(\"https://api.imgflip.com/get_memes\")\n",
    "\n",
    "meme_data = data.json()"
   ]
  },
  {
   "cell_type": "code",
   "execution_count": 37,
   "metadata": {},
   "outputs": [
    {
     "data": {
      "text/plain": [
       "200"
      ]
     },
     "execution_count": 37,
     "metadata": {},
     "output_type": "execute_result"
    }
   ],
   "source": [
    "data.status_code"
   ]
  },
  {
   "cell_type": "code",
   "execution_count": 10,
   "metadata": {},
   "outputs": [
    {
     "data": {
      "text/plain": [
       "{'success': True,\n",
       " 'data': {'memes': [{'id': '181913649',\n",
       "    'name': 'Drake Hotline Bling',\n",
       "    'url': 'https://i.imgflip.com/30b1gx.jpg',\n",
       "    'width': 1200,\n",
       "    'height': 1200,\n",
       "    'box_count': 2},\n",
       "   {'id': '87743020',\n",
       "    'name': 'Two Buttons',\n",
       "    'url': 'https://i.imgflip.com/1g8my4.jpg',\n",
       "    'width': 600,\n",
       "    'height': 908,\n",
       "    'box_count': 3},\n",
       "   {'id': '112126428',\n",
       "    'name': 'Distracted Boyfriend',\n",
       "    'url': 'https://i.imgflip.com/1ur9b0.jpg',\n",
       "    'width': 1200,\n",
       "    'height': 800,\n",
       "    'box_count': 3},\n",
       "   {'id': '131087935',\n",
       "    'name': 'Running Away Balloon',\n",
       "    'url': 'https://i.imgflip.com/261o3j.jpg',\n",
       "    'width': 761,\n",
       "    'height': 1024,\n",
       "    'box_count': 5},\n",
       "   {'id': '217743513',\n",
       "    'name': 'UNO Draw 25 Cards',\n",
       "    'url': 'https://i.imgflip.com/3lmzyx.jpg',\n",
       "    'width': 500,\n",
       "    'height': 494,\n",
       "    'box_count': 2},\n",
       "   {'id': '124822590',\n",
       "    'name': 'Left Exit 12 Off Ramp',\n",
       "    'url': 'https://i.imgflip.com/22bdq6.jpg',\n",
       "    'width': 804,\n",
       "    'height': 767,\n",
       "    'box_count': 3},\n",
       "   {'id': '247375501',\n",
       "    'name': 'Buff Doge vs. Cheems',\n",
       "    'url': 'https://i.imgflip.com/43a45p.png',\n",
       "    'width': 937,\n",
       "    'height': 720,\n",
       "    'box_count': 4},\n",
       "   {'id': '129242436',\n",
       "    'name': 'Change My Mind',\n",
       "    'url': 'https://i.imgflip.com/24y43o.jpg',\n",
       "    'width': 482,\n",
       "    'height': 361,\n",
       "    'box_count': 2},\n",
       "   {'id': '131940431',\n",
       "    'name': \"Gru's Plan\",\n",
       "    'url': 'https://i.imgflip.com/26jxvz.jpg',\n",
       "    'width': 700,\n",
       "    'height': 449,\n",
       "    'box_count': 4},\n",
       "   {'id': '222403160',\n",
       "    'name': 'Bernie I Am Once Again Asking For Your Support',\n",
       "    'url': 'https://i.imgflip.com/3oevdk.jpg',\n",
       "    'width': 750,\n",
       "    'height': 750,\n",
       "    'box_count': 2},\n",
       "   {'id': '438680',\n",
       "    'name': 'Batman Slapping Robin',\n",
       "    'url': 'https://i.imgflip.com/9ehk.jpg',\n",
       "    'width': 400,\n",
       "    'height': 387,\n",
       "    'box_count': 2},\n",
       "   {'id': '4087833',\n",
       "    'name': 'Waiting Skeleton',\n",
       "    'url': 'https://i.imgflip.com/2fm6x.jpg',\n",
       "    'width': 298,\n",
       "    'height': 403,\n",
       "    'box_count': 2},\n",
       "   {'id': '93895088',\n",
       "    'name': 'Expanding Brain',\n",
       "    'url': 'https://i.imgflip.com/1jwhww.jpg',\n",
       "    'width': 857,\n",
       "    'height': 1202,\n",
       "    'box_count': 4},\n",
       "   {'id': '97984',\n",
       "    'name': 'Disaster Girl',\n",
       "    'url': 'https://i.imgflip.com/23ls.jpg',\n",
       "    'width': 500,\n",
       "    'height': 375,\n",
       "    'box_count': 2},\n",
       "   {'id': '135256802',\n",
       "    'name': 'Epic Handshake',\n",
       "    'url': 'https://i.imgflip.com/28j0te.jpg',\n",
       "    'width': 900,\n",
       "    'height': 645,\n",
       "    'box_count': 3},\n",
       "   {'id': '188390779',\n",
       "    'name': 'Woman Yelling At Cat',\n",
       "    'url': 'https://i.imgflip.com/345v97.jpg',\n",
       "    'width': 680,\n",
       "    'height': 438,\n",
       "    'box_count': 2},\n",
       "   {'id': '80707627',\n",
       "    'name': 'Sad Pablo Escobar',\n",
       "    'url': 'https://i.imgflip.com/1c1uej.jpg',\n",
       "    'width': 720,\n",
       "    'height': 709,\n",
       "    'box_count': 3},\n",
       "   {'id': '178591752',\n",
       "    'name': 'Tuxedo Winnie The Pooh',\n",
       "    'url': 'https://i.imgflip.com/2ybua0.png',\n",
       "    'width': 800,\n",
       "    'height': 582,\n",
       "    'box_count': 2},\n",
       "   {'id': '1035805',\n",
       "    'name': 'Boardroom Meeting Suggestion',\n",
       "    'url': 'https://i.imgflip.com/m78d.jpg',\n",
       "    'width': 500,\n",
       "    'height': 649,\n",
       "    'box_count': 4},\n",
       "   {'id': '148909805',\n",
       "    'name': 'Monkey Puppet',\n",
       "    'url': 'https://i.imgflip.com/2gnnjh.jpg',\n",
       "    'width': 923,\n",
       "    'height': 768,\n",
       "    'box_count': 2},\n",
       "   {'id': '252600902',\n",
       "    'name': 'Always Has Been',\n",
       "    'url': 'https://i.imgflip.com/46e43q.png',\n",
       "    'width': 960,\n",
       "    'height': 540,\n",
       "    'box_count': 2},\n",
       "   {'id': '119139145',\n",
       "    'name': 'Blank Nut Button',\n",
       "    'url': 'https://i.imgflip.com/1yxkcp.jpg',\n",
       "    'width': 600,\n",
       "    'height': 446,\n",
       "    'box_count': 2},\n",
       "   {'id': '91538330',\n",
       "    'name': 'X, X Everywhere',\n",
       "    'url': 'https://i.imgflip.com/1ihzfe.jpg',\n",
       "    'width': 2118,\n",
       "    'height': 1440,\n",
       "    'box_count': 2},\n",
       "   {'id': '110163934',\n",
       "    'name': \"I Bet He's Thinking About Other Women\",\n",
       "    'url': 'https://i.imgflip.com/1tl71a.jpg',\n",
       "    'width': 1654,\n",
       "    'height': 930,\n",
       "    'box_count': 2},\n",
       "   {'id': '102156234',\n",
       "    'name': 'Mocking Spongebob',\n",
       "    'url': 'https://i.imgflip.com/1otk96.jpg',\n",
       "    'width': 502,\n",
       "    'height': 353,\n",
       "    'box_count': 2},\n",
       "   {'id': '226297822',\n",
       "    'name': 'Panik Kalm Panik',\n",
       "    'url': 'https://i.imgflip.com/3qqcim.png',\n",
       "    'width': 640,\n",
       "    'height': 881,\n",
       "    'box_count': 3},\n",
       "   {'id': '180190441',\n",
       "    'name': \"They're The Same Picture\",\n",
       "    'url': 'https://i.imgflip.com/2za3u1.jpg',\n",
       "    'width': 1363,\n",
       "    'height': 1524,\n",
       "    'box_count': 3},\n",
       "   {'id': '27813981',\n",
       "    'name': 'Hide the Pain Harold',\n",
       "    'url': 'https://i.imgflip.com/gk5el.jpg',\n",
       "    'width': 480,\n",
       "    'height': 601,\n",
       "    'box_count': 2},\n",
       "   {'id': '79132341',\n",
       "    'name': 'Bike Fall',\n",
       "    'url': 'https://i.imgflip.com/1b42wl.jpg',\n",
       "    'width': 500,\n",
       "    'height': 680,\n",
       "    'box_count': 3},\n",
       "   {'id': '216951317',\n",
       "    'name': 'Guy Holding Cardboard Sign',\n",
       "    'url': 'https://i.imgflip.com/3l60ph.jpg',\n",
       "    'width': 700,\n",
       "    'height': 702,\n",
       "    'box_count': 2},\n",
       "   {'id': '195515965',\n",
       "    'name': 'Clown Applying Makeup',\n",
       "    'url': 'https://i.imgflip.com/38el31.jpg',\n",
       "    'width': 750,\n",
       "    'height': 798,\n",
       "    'box_count': 4},\n",
       "   {'id': '100777631',\n",
       "    'name': 'Is This A Pigeon',\n",
       "    'url': 'https://i.imgflip.com/1o00in.jpg',\n",
       "    'width': 1587,\n",
       "    'height': 1425,\n",
       "    'box_count': 3},\n",
       "   {'id': '114585149',\n",
       "    'name': 'Inhaling Seagull',\n",
       "    'url': 'https://i.imgflip.com/1w7ygt.jpg',\n",
       "    'width': 1269,\n",
       "    'height': 2825,\n",
       "    'box_count': 4},\n",
       "   {'id': '61579',\n",
       "    'name': 'One Does Not Simply',\n",
       "    'url': 'https://i.imgflip.com/1bij.jpg',\n",
       "    'width': 568,\n",
       "    'height': 335,\n",
       "    'box_count': 2},\n",
       "   {'id': '55311130',\n",
       "    'name': 'This Is Fine',\n",
       "    'url': 'https://i.imgflip.com/wxica.jpg',\n",
       "    'width': 580,\n",
       "    'height': 282,\n",
       "    'box_count': 2},\n",
       "   {'id': '123999232',\n",
       "    'name': 'The Scroll Of Truth',\n",
       "    'url': 'https://i.imgflip.com/21tqf4.jpg',\n",
       "    'width': 1280,\n",
       "    'height': 1236,\n",
       "    'box_count': 2},\n",
       "   {'id': '101470',\n",
       "    'name': 'Ancient Aliens',\n",
       "    'url': 'https://i.imgflip.com/26am.jpg',\n",
       "    'width': 500,\n",
       "    'height': 437,\n",
       "    'box_count': 2},\n",
       "   {'id': '61544',\n",
       "    'name': 'Success Kid',\n",
       "    'url': 'https://i.imgflip.com/1bhk.jpg',\n",
       "    'width': 500,\n",
       "    'height': 500,\n",
       "    'box_count': 2},\n",
       "   {'id': '89370399',\n",
       "    'name': 'Roll Safe Think About It',\n",
       "    'url': 'https://i.imgflip.com/1h7in3.jpg',\n",
       "    'width': 702,\n",
       "    'height': 395,\n",
       "    'box_count': 2},\n",
       "   {'id': '3218037',\n",
       "    'name': \"This Is Where I'd Put My Trophy If I Had One\",\n",
       "    'url': 'https://i.imgflip.com/1wz1x.jpg',\n",
       "    'width': 300,\n",
       "    'height': 418,\n",
       "    'box_count': 2},\n",
       "   {'id': '135678846',\n",
       "    'name': 'Who Killed Hannibal',\n",
       "    'url': 'https://i.imgflip.com/28s2gu.jpg',\n",
       "    'width': 1280,\n",
       "    'height': 1440,\n",
       "    'box_count': 3},\n",
       "   {'id': '155067746',\n",
       "    'name': 'Surprised Pikachu',\n",
       "    'url': 'https://i.imgflip.com/2kbn1e.jpg',\n",
       "    'width': 1893,\n",
       "    'height': 1893,\n",
       "    'box_count': 3},\n",
       "   {'id': '134797956',\n",
       "    'name': 'American Chopper Argument',\n",
       "    'url': 'https://i.imgflip.com/2896ro.jpg',\n",
       "    'width': 640,\n",
       "    'height': 1800,\n",
       "    'box_count': 5},\n",
       "   {'id': '21735',\n",
       "    'name': 'The Rock Driving',\n",
       "    'url': 'https://i.imgflip.com/grr.jpg',\n",
       "    'width': 568,\n",
       "    'height': 700,\n",
       "    'box_count': 2},\n",
       "   {'id': '99683372',\n",
       "    'name': 'Sleeping Shaq',\n",
       "    'url': 'https://i.imgflip.com/1nck6k.jpg',\n",
       "    'width': 640,\n",
       "    'height': 631,\n",
       "    'box_count': 2},\n",
       "   {'id': '161865971',\n",
       "    'name': 'Marked Safe From',\n",
       "    'url': 'https://i.imgflip.com/2odckz.jpg',\n",
       "    'width': 618,\n",
       "    'height': 499,\n",
       "    'box_count': 2},\n",
       "   {'id': '84341851',\n",
       "    'name': 'Evil Kermit',\n",
       "    'url': 'https://i.imgflip.com/1e7ql7.jpg',\n",
       "    'width': 700,\n",
       "    'height': 325,\n",
       "    'box_count': 2},\n",
       "   {'id': '124055727',\n",
       "    'name': \"Y'all Got Any More Of That\",\n",
       "    'url': 'https://i.imgflip.com/21uy0f.jpg',\n",
       "    'width': 600,\n",
       "    'height': 471,\n",
       "    'box_count': 2},\n",
       "   {'id': '28251713',\n",
       "    'name': 'Oprah You Get A',\n",
       "    'url': 'https://i.imgflip.com/gtj5t.jpg',\n",
       "    'width': 620,\n",
       "    'height': 465,\n",
       "    'box_count': 2},\n",
       "   {'id': '259237855',\n",
       "    'name': 'Laughing Leo',\n",
       "    'url': 'https://i.imgflip.com/4acd7j.png',\n",
       "    'width': 470,\n",
       "    'height': 470,\n",
       "    'box_count': 2},\n",
       "   {'id': '175540452',\n",
       "    'name': 'Unsettled Tom',\n",
       "    'url': 'https://i.imgflip.com/2wifvo.jpg',\n",
       "    'width': 680,\n",
       "    'height': 550,\n",
       "    'box_count': 2},\n",
       "   {'id': '101288',\n",
       "    'name': 'Third World Skeptical Kid',\n",
       "    'url': 'https://i.imgflip.com/265k.jpg',\n",
       "    'width': 426,\n",
       "    'height': 426,\n",
       "    'box_count': 2},\n",
       "   {'id': '6235864',\n",
       "    'name': 'Finding Neverland',\n",
       "    'url': 'https://i.imgflip.com/3pnmg.jpg',\n",
       "    'width': 423,\n",
       "    'height': 600,\n",
       "    'box_count': 3},\n",
       "   {'id': '61520',\n",
       "    'name': 'Futurama Fry',\n",
       "    'url': 'https://i.imgflip.com/1bgw.jpg',\n",
       "    'width': 552,\n",
       "    'height': 414,\n",
       "    'box_count': 2},\n",
       "   {'id': '61556',\n",
       "    'name': 'Grandma Finds The Internet',\n",
       "    'url': 'https://i.imgflip.com/1bhw.jpg',\n",
       "    'width': 640,\n",
       "    'height': 480,\n",
       "    'box_count': 2},\n",
       "   {'id': '196652226',\n",
       "    'name': 'Spongebob Ight Imma Head Out',\n",
       "    'url': 'https://i.imgflip.com/392xtu.jpg',\n",
       "    'width': 822,\n",
       "    'height': 960,\n",
       "    'box_count': 2},\n",
       "   {'id': '132769734',\n",
       "    'name': 'Hard To Swallow Pills',\n",
       "    'url': 'https://i.imgflip.com/271ps6.jpg',\n",
       "    'width': 680,\n",
       "    'height': 979,\n",
       "    'box_count': 2},\n",
       "   {'id': '91545132',\n",
       "    'name': 'Trump Bill Signing',\n",
       "    'url': 'https://i.imgflip.com/1ii4oc.jpg',\n",
       "    'width': 1866,\n",
       "    'height': 1529,\n",
       "    'box_count': 2},\n",
       "   {'id': '5496396',\n",
       "    'name': 'Leonardo Dicaprio Cheers',\n",
       "    'url': 'https://i.imgflip.com/39t1o.jpg',\n",
       "    'width': 600,\n",
       "    'height': 400,\n",
       "    'box_count': 2},\n",
       "   {'id': '8072285',\n",
       "    'name': 'Doge',\n",
       "    'url': 'https://i.imgflip.com/4t0m5.jpg',\n",
       "    'width': 620,\n",
       "    'height': 620,\n",
       "    'box_count': 5},\n",
       "   {'id': '14371066',\n",
       "    'name': 'Star Wars Yoda',\n",
       "    'url': 'https://i.imgflip.com/8k0sa.jpg',\n",
       "    'width': 620,\n",
       "    'height': 714,\n",
       "    'box_count': 2},\n",
       "   {'id': '563423',\n",
       "    'name': 'That Would Be Great',\n",
       "    'url': 'https://i.imgflip.com/c2qn.jpg',\n",
       "    'width': 526,\n",
       "    'height': 440,\n",
       "    'box_count': 2},\n",
       "   {'id': '8279814',\n",
       "    'name': 'Cute Cat',\n",
       "    'url': 'https://i.imgflip.com/4xgqu.jpg',\n",
       "    'width': 480,\n",
       "    'height': 532,\n",
       "    'box_count': 2},\n",
       "   {'id': '61532',\n",
       "    'name': 'The Most Interesting Man In The World',\n",
       "    'url': 'https://i.imgflip.com/1bh8.jpg',\n",
       "    'width': 550,\n",
       "    'height': 690,\n",
       "    'box_count': 2},\n",
       "   {'id': '29617627',\n",
       "    'name': 'Look At Me',\n",
       "    'url': 'https://i.imgflip.com/hmt3v.jpg',\n",
       "    'width': 300,\n",
       "    'height': 300,\n",
       "    'box_count': 2},\n",
       "   {'id': '16464531',\n",
       "    'name': \"But That's None Of My Business\",\n",
       "    'url': 'https://i.imgflip.com/9sw43.jpg',\n",
       "    'width': 600,\n",
       "    'height': 600,\n",
       "    'box_count': 2},\n",
       "   {'id': '163573',\n",
       "    'name': 'Imagination Spongebob',\n",
       "    'url': 'https://i.imgflip.com/3i7p.jpg',\n",
       "    'width': 500,\n",
       "    'height': 366,\n",
       "    'box_count': 2},\n",
       "   {'id': '21604248',\n",
       "    'name': 'Mugatu So Hot Right Now',\n",
       "    'url': 'https://i.imgflip.com/cv1y0.jpg',\n",
       "    'width': 620,\n",
       "    'height': 497,\n",
       "    'box_count': 2},\n",
       "   {'id': '4173692',\n",
       "    'name': 'Scared Cat',\n",
       "    'url': 'https://i.imgflip.com/2hgfw.jpg',\n",
       "    'width': 620,\n",
       "    'height': 464,\n",
       "    'box_count': 2},\n",
       "   {'id': '460541',\n",
       "    'name': 'Jack Sparrow Being Chased',\n",
       "    'url': 'https://i.imgflip.com/9vct.jpg',\n",
       "    'width': 500,\n",
       "    'height': 375,\n",
       "    'box_count': 2},\n",
       "   {'id': '61585',\n",
       "    'name': 'Bad Luck Brian',\n",
       "    'url': 'https://i.imgflip.com/1bip.jpg',\n",
       "    'width': 475,\n",
       "    'height': 562,\n",
       "    'box_count': 2},\n",
       "   {'id': '61546',\n",
       "    'name': 'Brace Yourselves X is Coming',\n",
       "    'url': 'https://i.imgflip.com/1bhm.jpg',\n",
       "    'width': 622,\n",
       "    'height': 477,\n",
       "    'box_count': 2},\n",
       "   {'id': '6531067',\n",
       "    'name': 'See Nobody Cares',\n",
       "    'url': 'https://i.imgflip.com/3vzej.jpg',\n",
       "    'width': 620,\n",
       "    'height': 676,\n",
       "    'box_count': 2},\n",
       "   {'id': '61539',\n",
       "    'name': 'First World Problems',\n",
       "    'url': 'https://i.imgflip.com/1bhf.jpg',\n",
       "    'width': 552,\n",
       "    'height': 367,\n",
       "    'box_count': 2},\n",
       "   {'id': '56225174',\n",
       "    'name': 'Be Like Bill',\n",
       "    'url': 'https://i.imgflip.com/xh3me.jpg',\n",
       "    'width': 913,\n",
       "    'height': 907,\n",
       "    'box_count': 4},\n",
       "   {'id': '24557067',\n",
       "    'name': 'Afraid To Ask Andy',\n",
       "    'url': 'https://i.imgflip.com/emccr.jpg',\n",
       "    'width': 620,\n",
       "    'height': 608,\n",
       "    'box_count': 2},\n",
       "   {'id': '61580',\n",
       "    'name': 'Too Damn High',\n",
       "    'url': 'https://i.imgflip.com/1bik.jpg',\n",
       "    'width': 420,\n",
       "    'height': 316,\n",
       "    'box_count': 2},\n",
       "   {'id': '29562797',\n",
       "    'name': \"I'm The Captain Now\",\n",
       "    'url': 'https://i.imgflip.com/hlmst.jpg',\n",
       "    'width': 478,\n",
       "    'height': 350,\n",
       "    'box_count': 2},\n",
       "   {'id': '285870',\n",
       "    'name': 'Squidward',\n",
       "    'url': 'https://i.imgflip.com/64ku.jpg',\n",
       "    'width': 500,\n",
       "    'height': 750,\n",
       "    'box_count': 2},\n",
       "   {'id': '101716',\n",
       "    'name': 'Yo Dawg Heard You',\n",
       "    'url': 'https://i.imgflip.com/26hg.jpg',\n",
       "    'width': 500,\n",
       "    'height': 323,\n",
       "    'box_count': 2},\n",
       "   {'id': '101910402',\n",
       "    'name': 'Who Would Win?',\n",
       "    'url': 'https://i.imgflip.com/1ooaki.jpg',\n",
       "    'width': 802,\n",
       "    'height': 500,\n",
       "    'box_count': 2},\n",
       "   {'id': '61533',\n",
       "    'name': 'X All The Y',\n",
       "    'url': 'https://i.imgflip.com/1bh9.jpg',\n",
       "    'width': 500,\n",
       "    'height': 355,\n",
       "    'box_count': 2},\n",
       "   {'id': '101287',\n",
       "    'name': 'Third World Success Kid',\n",
       "    'url': 'https://i.imgflip.com/265j.jpg',\n",
       "    'width': 500,\n",
       "    'height': 500,\n",
       "    'box_count': 2},\n",
       "   {'id': '142921050',\n",
       "    'name': 'Car Salesman Slaps Roof Of Car',\n",
       "    'url': 'https://i.imgflip.com/2d3al6.jpg',\n",
       "    'width': 800,\n",
       "    'height': 450,\n",
       "    'box_count': 2},\n",
       "   {'id': '405658',\n",
       "    'name': 'Grumpy Cat',\n",
       "    'url': 'https://i.imgflip.com/8p0a.jpg',\n",
       "    'width': 500,\n",
       "    'height': 617,\n",
       "    'box_count': 2},\n",
       "   {'id': '1367068',\n",
       "    'name': 'I Should Buy A Boat Cat',\n",
       "    'url': 'https://i.imgflip.com/tau4.jpg',\n",
       "    'width': 500,\n",
       "    'height': 368,\n",
       "    'box_count': 2},\n",
       "   {'id': '101511',\n",
       "    'name': \"Don't You Squidward\",\n",
       "    'url': 'https://i.imgflip.com/26br.jpg',\n",
       "    'width': 500,\n",
       "    'height': 333,\n",
       "    'box_count': 2},\n",
       "   {'id': '28034788',\n",
       "    'name': 'Marvel Civil War 1',\n",
       "    'url': 'https://i.imgflip.com/govs4.jpg',\n",
       "    'width': 423,\n",
       "    'height': 734,\n",
       "    'box_count': 2},\n",
       "   {'id': '61581',\n",
       "    'name': 'Put It Somewhere Else Patrick',\n",
       "    'url': 'https://i.imgflip.com/1bil.jpg',\n",
       "    'width': 343,\n",
       "    'height': 604,\n",
       "    'box_count': 2},\n",
       "   {'id': '89655',\n",
       "    'name': 'Uncle Sam',\n",
       "    'url': 'https://i.imgflip.com/1x6f.jpg',\n",
       "    'width': 620,\n",
       "    'height': 833,\n",
       "    'box_count': 2},\n",
       "   {'id': '176908',\n",
       "    'name': 'Shut Up And Take My Money Fry',\n",
       "    'url': 'https://i.imgflip.com/3si4.jpg',\n",
       "    'width': 500,\n",
       "    'height': 281,\n",
       "    'box_count': 2},\n",
       "   {'id': '61527',\n",
       "    'name': 'Y U No',\n",
       "    'url': 'https://i.imgflip.com/1bh3.jpg',\n",
       "    'width': 500,\n",
       "    'height': 500,\n",
       "    'box_count': 2},\n",
       "   {'id': '341570',\n",
       "    'name': 'Success Kid Original',\n",
       "    'url': 'https://i.imgflip.com/7bk2.jpg',\n",
       "    'width': 500,\n",
       "    'height': 333,\n",
       "    'box_count': 2},\n",
       "   {'id': '9440985',\n",
       "    'name': 'Face You Make Robert Downey Jr',\n",
       "    'url': 'https://i.imgflip.com/5mcpl.jpg',\n",
       "    'width': 460,\n",
       "    'height': 523,\n",
       "    'box_count': 2},\n",
       "   {'id': '7183956',\n",
       "    'name': 'Oprah You Get A Car Everybody Gets A Car',\n",
       "    'url': 'https://i.imgflip.com/49z6c.jpg',\n",
       "    'width': 620,\n",
       "    'height': 1004,\n",
       "    'box_count': 4},\n",
       "   {'id': '71428573',\n",
       "    'name': 'Say it Again, Dexter',\n",
       "    'url': 'https://i.imgflip.com/16iyn1.jpg',\n",
       "    'width': 698,\n",
       "    'height': 900,\n",
       "    'box_count': 2},\n",
       "   {'id': '1202623',\n",
       "    'name': 'Keep Calm And Carry On Red',\n",
       "    'url': 'https://i.imgflip.com/pry7.jpg',\n",
       "    'width': 500,\n",
       "    'height': 704,\n",
       "    'box_count': 2},\n",
       "   {'id': '922147',\n",
       "    'name': 'Laughing Men In Suits',\n",
       "    'url': 'https://i.imgflip.com/jrj7.jpg',\n",
       "    'width': 500,\n",
       "    'height': 333,\n",
       "    'box_count': 2},\n",
       "   {'id': '109765',\n",
       "    'name': \"I'll Just Wait Here\",\n",
       "    'url': 'https://i.imgflip.com/2cp1.jpg',\n",
       "    'width': 491,\n",
       "    'height': 550,\n",
       "    'box_count': 2},\n",
       "   {'id': '1232104',\n",
       "    'name': 'Pepperidge Farm Remembers',\n",
       "    'url': 'https://i.imgflip.com/qep4.jpg',\n",
       "    'width': 500,\n",
       "    'height': 500,\n",
       "    'box_count': 2}]}}"
      ]
     },
     "execution_count": 10,
     "metadata": {},
     "output_type": "execute_result"
    }
   ],
   "source": [
    "meme_data"
   ]
  },
  {
   "cell_type": "code",
   "execution_count": 15,
   "metadata": {},
   "outputs": [],
   "source": [
    "memes = meme_data['data']['memes']"
   ]
  },
  {
   "cell_type": "code",
   "execution_count": 16,
   "metadata": {},
   "outputs": [
    {
     "data": {
      "text/plain": [
       "100"
      ]
     },
     "execution_count": 16,
     "metadata": {},
     "output_type": "execute_result"
    }
   ],
   "source": [
    "len(memes)"
   ]
  },
  {
   "cell_type": "code",
   "execution_count": 17,
   "metadata": {},
   "outputs": [],
   "source": [
    "images = [{'name':image['name'], 'url':image['url'], 'id':image['id']} for image in memes]"
   ]
  },
  {
   "cell_type": "code",
   "execution_count": 19,
   "metadata": {},
   "outputs": [
    {
     "name": "stdout",
     "output_type": "stream",
     "text": [
      "0 Drake Hotline Bling\n",
      "1 Two Buttons\n",
      "2 Distracted Boyfriend\n",
      "3 Running Away Balloon\n",
      "4 UNO Draw 25 Cards\n",
      "5 Left Exit 12 Off Ramp\n",
      "6 Buff Doge vs. Cheems\n",
      "7 Change My Mind\n",
      "8 Gru's Plan\n",
      "9 Bernie I Am Once Again Asking For Your Support\n",
      "10 Batman Slapping Robin\n",
      "11 Waiting Skeleton\n",
      "12 Expanding Brain\n",
      "13 Disaster Girl\n",
      "14 Epic Handshake\n",
      "15 Woman Yelling At Cat\n",
      "16 Sad Pablo Escobar\n",
      "17 Tuxedo Winnie The Pooh\n",
      "18 Boardroom Meeting Suggestion\n",
      "19 Monkey Puppet\n",
      "20 Always Has Been\n",
      "21 Blank Nut Button\n",
      "22 X, X Everywhere\n",
      "23 I Bet He's Thinking About Other Women\n",
      "24 Mocking Spongebob\n",
      "25 Panik Kalm Panik\n",
      "26 They're The Same Picture\n",
      "27 Hide the Pain Harold\n",
      "28 Bike Fall\n",
      "29 Guy Holding Cardboard Sign\n",
      "30 Clown Applying Makeup\n",
      "31 Is This A Pigeon\n",
      "32 Inhaling Seagull\n",
      "33 One Does Not Simply\n",
      "34 This Is Fine\n",
      "35 The Scroll Of Truth\n",
      "36 Ancient Aliens\n",
      "37 Success Kid\n",
      "38 Roll Safe Think About It\n",
      "39 This Is Where I'd Put My Trophy If I Had One\n",
      "40 Who Killed Hannibal\n",
      "41 Surprised Pikachu\n",
      "42 American Chopper Argument\n",
      "43 The Rock Driving\n",
      "44 Sleeping Shaq\n",
      "45 Marked Safe From\n",
      "46 Evil Kermit\n",
      "47 Y'all Got Any More Of That\n",
      "48 Oprah You Get A\n",
      "49 Laughing Leo\n",
      "50 Unsettled Tom\n",
      "51 Third World Skeptical Kid\n",
      "52 Finding Neverland\n",
      "53 Futurama Fry\n",
      "54 Grandma Finds The Internet\n",
      "55 Spongebob Ight Imma Head Out\n",
      "56 Hard To Swallow Pills\n",
      "57 Trump Bill Signing\n",
      "58 Leonardo Dicaprio Cheers\n",
      "59 Doge\n",
      "60 Star Wars Yoda\n",
      "61 That Would Be Great\n",
      "62 Cute Cat\n",
      "63 The Most Interesting Man In The World\n",
      "64 Look At Me\n",
      "65 But That's None Of My Business\n",
      "66 Imagination Spongebob\n",
      "67 Mugatu So Hot Right Now\n",
      "68 Scared Cat\n",
      "69 Jack Sparrow Being Chased\n",
      "70 Bad Luck Brian\n",
      "71 Brace Yourselves X is Coming\n",
      "72 See Nobody Cares\n",
      "73 First World Problems\n",
      "74 Be Like Bill\n",
      "75 Afraid To Ask Andy\n",
      "76 Too Damn High\n",
      "77 I'm The Captain Now\n",
      "78 Squidward\n",
      "79 Yo Dawg Heard You\n",
      "80 Who Would Win?\n",
      "81 X All The Y\n",
      "82 Third World Success Kid\n",
      "83 Car Salesman Slaps Roof Of Car\n",
      "84 Grumpy Cat\n",
      "85 I Should Buy A Boat Cat\n",
      "86 Don't You Squidward\n",
      "87 Marvel Civil War 1\n",
      "88 Put It Somewhere Else Patrick\n",
      "89 Uncle Sam\n",
      "90 Shut Up And Take My Money Fry\n",
      "91 Y U No\n",
      "92 Success Kid Original\n",
      "93 Face You Make Robert Downey Jr\n",
      "94 Oprah You Get A Car Everybody Gets A Car\n",
      "95 Say it Again, Dexter\n",
      "96 Keep Calm And Carry On Red\n",
      "97 Laughing Men In Suits\n",
      "98 I'll Just Wait Here\n",
      "99 Pepperidge Farm Remembers\n"
     ]
    }
   ],
   "source": [
    "for index, img in enumerate(images):\n",
    "    print(index, img['name'])"
   ]
  },
  {
   "cell_type": "code",
   "execution_count": 24,
   "metadata": {},
   "outputs": [
    {
     "data": {
      "text/plain": [
       "'https://i.imgflip.com/30b1gx.jpg'"
      ]
     },
     "execution_count": 24,
     "metadata": {},
     "output_type": "execute_result"
    }
   ],
   "source": [
    "images[0]['url']"
   ]
  },
  {
   "cell_type": "code",
   "execution_count": 34,
   "metadata": {},
   "outputs": [],
   "source": [
    "import random\n",
    "\n",
    "#for i in range(100):\n",
    "meme_img = random.choice(images)['url']"
   ]
  },
  {
   "cell_type": "code",
   "execution_count": 35,
   "metadata": {},
   "outputs": [
    {
     "data": {
      "text/plain": [
       "'https://i.imgflip.com/1ihzfe.jpg'"
      ]
     },
     "execution_count": 35,
     "metadata": {},
     "output_type": "execute_result"
    }
   ],
   "source": [
    "meme_img"
   ]
  },
  {
   "cell_type": "code",
   "execution_count": null,
   "metadata": {},
   "outputs": [],
   "source": []
  }
 ],
 "metadata": {
  "interpreter": {
   "hash": "84a20e74315434dc94d267101c0e24a799fe29422b79d55dd87bb3548fa4b26c"
  },
  "kernelspec": {
   "display_name": "Python 3.10.0 ('mybotenv': venv)",
   "language": "python",
   "name": "python3"
  },
  "language_info": {
   "codemirror_mode": {
    "name": "ipython",
    "version": 3
   },
   "file_extension": ".py",
   "mimetype": "text/x-python",
   "name": "python",
   "nbconvert_exporter": "python",
   "pygments_lexer": "ipython3",
   "version": "3.10.0"
  },
  "orig_nbformat": 4
 },
 "nbformat": 4,
 "nbformat_minor": 2
}
